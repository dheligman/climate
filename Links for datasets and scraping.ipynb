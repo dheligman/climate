{
 "cells": [
  {
   "cell_type": "markdown",
   "metadata": {},
   "source": [
    "# List of Sources for Datasets and Data Scraping\n",
    "## Feel free to add as you see fit"
   ]
  },
  {
   "cell_type": "markdown",
   "metadata": {},
   "source": [
    " Here's a website for scraping forest fires data \n",
    " <br>\n",
    " https://www.ncdc.noaa.gov/sotc/fire/202004"
   ]
  },
  {
   "cell_type": "markdown",
   "metadata": {},
   "source": [
    "Climatological data. CSV files seem to be available for free\n",
    "<br>\n",
    "https://www.ncdc.noaa.gov/data-access/quick-links#loc-clim"
   ]
  },
  {
   "cell_type": "markdown",
   "metadata": {},
   "source": [
    "Archived integrated surface database\n",
    "<br>\n",
    "ftp://ftp.ncdc.noaa.gov/pub/data/noaa/"
   ]
  },
  {
   "cell_type": "markdown",
   "metadata": {},
   "source": [
    "This link contains the data from the forest website, but its from kaggle. The reason I'm including it is because they include descriptions of all the columns of every dataset.\n",
    "<br>\n",
    "https://www.kaggle.com/usforestservice/usfs-fia"
   ]
  },
  {
   "cell_type": "markdown",
   "metadata": {},
   "source": [
    "These charts map out the most common trees in the US\n",
    "<br>\n",
    "https://www.fia.fs.fed.us/slides/current-data.pdf"
   ]
  },
  {
   "cell_type": "markdown",
   "metadata": {},
   "source": [
    "kaggle for noaa gsod data (bigquery)\n",
    "<br>\n",
    "https://www.kaggle.com/noaa/gsod"
   ]
  },
  {
   "cell_type": "code",
   "execution_count": null,
   "metadata": {},
   "outputs": [],
   "source": []
  }
 ],
 "metadata": {
  "kernelspec": {
   "display_name": "Python 3",
   "language": "python",
   "name": "python3"
  },
  "language_info": {
   "codemirror_mode": {
    "name": "ipython",
    "version": 3
   },
   "file_extension": ".py",
   "mimetype": "text/x-python",
   "name": "python",
   "nbconvert_exporter": "python",
   "pygments_lexer": "ipython3",
   "version": "3.7.3"
  }
 },
 "nbformat": 4,
 "nbformat_minor": 2
}
