{
 "cells": [
  {
   "cell_type": "code",
   "execution_count": 9,
   "metadata": {},
   "outputs": [],
   "source": [
    "import sqlite3\n",
    "from sqlite3 import Error\n",
    "import sqlalchemy\n",
    "import pandas as pd\n",
    "import numpy as np\n",
    "import matplotlib.pyplot as plt\n",
    "\n",
    "def create_connection(db_file):\n",
    "    \"\"\" create a database connection to the SQLite database\n",
    "        specified by the db_file\n",
    "    :param db_file: database file\n",
    "    :return: Connection object or None\n",
    "    \"\"\"\n",
    "    conn = None\n",
    "    try:\n",
    "        conn = sqlite3.connect(db_file)\n",
    "    except Error as e:\n",
    "        print(e)\n",
    "\n",
    "    return conn\n",
    "\n",
    "\n",
    "def select_all_tasks(conn):\n",
    "    \"\"\"\n",
    "    Query all rows in the tasks table\n",
    "    :param conn: the Connection object\n",
    "    :return:\n",
    "    \"\"\"\n",
    "    cur = conn.cursor()\n",
    "    cur.execute(\"SELECT * FROM tasks\")\n",
    "\n",
    "    rows = cur.fetchall()\n",
    "\n",
    "    for row in rows:\n",
    "        print(row)\n",
    "\n",
    "\n",
    "def select_task_by_priority(conn, priority):\n",
    "    \"\"\"\n",
    "    Query tasks by priority\n",
    "    :param conn: the Connection object\n",
    "    :param priority:\n",
    "    :return:\n",
    "    \"\"\"\n",
    "    cur = conn.cursor()\n",
    "    cur.execute(\"SELECT * FROM tasks WHERE priority=?\", (priority,))\n",
    "\n",
    "    rows = cur.fetchall()\n",
    "\n",
    "    for row in rows:\n",
    "        print(row)"
   ]
  },
  {
   "cell_type": "code",
   "execution_count": null,
   "metadata": {},
   "outputs": [],
   "source": [
    "database = 'FIADB_OH.db'\n",
    "conn = create_connection(database)\n",
    "c = conn.cursor()"
   ]
  },
  {
   "cell_type": "code",
   "execution_count": null,
   "metadata": {},
   "outputs": [],
   "source": [
    "c.execute('SELECT name FROM sqlite_master where type= \"table\"')\n",
    "print(c.fetchall())"
   ]
  },
  {
   "cell_type": "code",
   "execution_count": null,
   "metadata": {},
   "outputs": [],
   "source": [
    "c.execute('SELECT * FROM TREE_GRM_COMPONENT')\n",
    "\n",
    "# The data we selected from the table comes\n",
    "# with a \"description\", which is the column labels\n",
    "# we can access those with a quick list comprehension\n",
    "tree_comp = pd.DataFrame(c.fetchall(), columns = [x[0] for x in c.description])"
   ]
  },
  {
   "cell_type": "code",
   "execution_count": null,
   "metadata": {},
   "outputs": [],
   "source": [
    "tree_comp.columns"
   ]
  },
  {
   "cell_type": "code",
   "execution_count": null,
   "metadata": {},
   "outputs": [],
   "source": [
    "c.execute('SELECT * FROM SURVEY')\n",
    "\n",
    "# The data we selected from the table comes\n",
    "# with a \"description\", which is the column labels\n",
    "# we can access those with a quick list comprehension\n",
    "survey = pd.DataFrame(c.fetchall(), columns = [x[0] for x in c.description])"
   ]
  },
  {
   "cell_type": "code",
   "execution_count": null,
   "metadata": {},
   "outputs": [],
   "source": [
    "survey.columns"
   ]
  },
  {
   "cell_type": "code",
   "execution_count": null,
   "metadata": {},
   "outputs": [],
   "source": [
    "len(tree_comp[\"CREATED_DATE\"])"
   ]
  },
  {
   "cell_type": "code",
   "execution_count": null,
   "metadata": {},
   "outputs": [],
   "source": [
    "type(tree_comp[\"CREATED_DATE\"][len(tree_comp[\"CREATED_DATE\"])-1])"
   ]
  },
  {
   "cell_type": "code",
   "execution_count": null,
   "metadata": {},
   "outputs": [],
   "source": [
    "from datetime import datetime\n",
    "\n",
    "date_str = tree_comp[\"CREATED_DATE\"][len(tree_comp[\"CREATED_DATE\"])-1]\n",
    "\n",
    "date_object = datetime.strptime(date_str, '%Y-%m-%d %H:%M:%S').date()\n",
    "print(type(date_object))\n",
    "print(date_object)  # printed in default formatting"
   ]
  },
  {
   "cell_type": "code",
   "execution_count": null,
   "metadata": {},
   "outputs": [],
   "source": [
    "date = []\n",
    "for element in tree_comp[\"CREATED_DATE\"]:\n",
    "    date.append(datetime.strptime(element, '%Y-%m-%d %H:%M:%S').date())"
   ]
  },
  {
   "cell_type": "code",
   "execution_count": null,
   "metadata": {},
   "outputs": [],
   "source": [
    "from pandas.plotting import register_matplotlib_converters\n",
    "register_matplotlib_converters()\n",
    "from matplotlib.dates import (YEARLY, MONTHLY, DateFormatter,\n",
    "                              rrulewrapper, RRuleLocator, drange)\n",
    "fig, ax = plt.subplots(figsize=(20,4))\n",
    "rule = rrulewrapper(MONTHLY, interval=1)\n",
    "loc = RRuleLocator(rule)\n",
    "formatter = DateFormatter('%m/%d/%y')\n",
    "plt.plot_date(date,tree_comp[\"DIA_BEGIN\"])\n",
    "ax.xaxis.set_major_locator(loc)\n",
    "ax.xaxis.set_major_formatter(formatter)\n",
    "ax.xaxis.set_tick_params(rotation=90, labelsize=10)"
   ]
  },
  {
   "cell_type": "code",
   "execution_count": null,
   "metadata": {},
   "outputs": [],
   "source": [
    "len(tree_comp[\"TRE_CN\"])"
   ]
  },
  {
   "cell_type": "code",
   "execution_count": null,
   "metadata": {},
   "outputs": [],
   "source": [
    "x = np.linspace(0,len(tree_comp[\"TRE_CN\"]),len(tree_comp[\"TRE_CN\"]))"
   ]
  },
  {
   "cell_type": "code",
   "execution_count": null,
   "metadata": {},
   "outputs": [],
   "source": [
    "plt.scatter(x,tree_comp[\"TRE_CN\"])"
   ]
  },
  {
   "cell_type": "code",
   "execution_count": 1,
   "metadata": {},
   "outputs": [],
   "source": [
    "import bq_helper\n",
    "from bq_helper import BigQueryHelper\n",
    "usfs = BigQueryHelper(active_project=\"bigquery-public-data\",\n",
    "                                   dataset_name=\"usfs_fia\")"
   ]
  },
  {
   "cell_type": "code",
   "execution_count": 53,
   "metadata": {},
   "outputs": [
    {
     "data": {
      "text/plain": [
       "['condition',\n",
       " 'estimated_forestland_acres',\n",
       " 'estimated_timberland_acres',\n",
       " 'plot',\n",
       " 'plot_tree',\n",
       " 'population',\n",
       " 'population_estimation_unit',\n",
       " 'population_evaluation',\n",
       " 'population_evaluation_group',\n",
       " 'population_evaluation_type',\n",
       " 'population_stratum',\n",
       " 'population_stratum_assign',\n",
       " 'tree']"
      ]
     },
     "execution_count": 53,
     "metadata": {},
     "output_type": "execute_result"
    }
   ],
   "source": [
    "usfs.list_tables()"
   ]
  },
  {
   "cell_type": "markdown",
   "metadata": {},
   "source": [
    "See what's in plot_tree"
   ]
  },
  {
   "cell_type": "code",
   "execution_count": 140,
   "metadata": {},
   "outputs": [
    {
     "data": {
      "text/html": [
       "<div>\n",
       "<style scoped>\n",
       "    .dataframe tbody tr th:only-of-type {\n",
       "        vertical-align: middle;\n",
       "    }\n",
       "\n",
       "    .dataframe tbody tr th {\n",
       "        vertical-align: top;\n",
       "    }\n",
       "\n",
       "    .dataframe thead th {\n",
       "        text-align: right;\n",
       "    }\n",
       "</style>\n",
       "<table border=\"1\" class=\"dataframe\">\n",
       "  <thead>\n",
       "    <tr style=\"text-align: right;\">\n",
       "      <th></th>\n",
       "      <th>name</th>\n",
       "      <th>type</th>\n",
       "      <th>mode</th>\n",
       "      <th>description</th>\n",
       "    </tr>\n",
       "  </thead>\n",
       "  <tbody>\n",
       "    <tr>\n",
       "      <td>0</td>\n",
       "      <td>tree_sequence_number</td>\n",
       "      <td>INTEGER</td>\n",
       "      <td>NULLABLE</td>\n",
       "      <td>Foreign key linking the tree regional biomass ...</td>\n",
       "    </tr>\n",
       "    <tr>\n",
       "      <td>1</td>\n",
       "      <td>plot_sequence_number</td>\n",
       "      <td>INTEGER</td>\n",
       "      <td>NULLABLE</td>\n",
       "      <td>Foreign key linking the subplot record to the ...</td>\n",
       "    </tr>\n",
       "    <tr>\n",
       "      <td>2</td>\n",
       "      <td>previous_tree_sequence_number</td>\n",
       "      <td>INTEGER</td>\n",
       "      <td>NULLABLE</td>\n",
       "      <td>Foreign key linking the tree to the previous i...</td>\n",
       "    </tr>\n",
       "    <tr>\n",
       "      <td>3</td>\n",
       "      <td>tree_inventory_year</td>\n",
       "      <td>INTEGER</td>\n",
       "      <td>NULLABLE</td>\n",
       "      <td>The year that best represents when the invento...</td>\n",
       "    </tr>\n",
       "    <tr>\n",
       "      <td>4</td>\n",
       "      <td>tree_state_code</td>\n",
       "      <td>INTEGER</td>\n",
       "      <td>NULLABLE</td>\n",
       "      <td>Bureau of the Census Federal Information Proce...</td>\n",
       "    </tr>\n",
       "    <tr>\n",
       "      <td>...</td>\n",
       "      <td>...</td>\n",
       "      <td>...</td>\n",
       "      <td>...</td>\n",
       "      <td>...</td>\n",
       "    </tr>\n",
       "    <tr>\n",
       "      <td>250</td>\n",
       "      <td>inc5yrht_pnwrs</td>\n",
       "      <td>STRING</td>\n",
       "      <td>NULLABLE</td>\n",
       "      <td></td>\n",
       "    </tr>\n",
       "    <tr>\n",
       "      <td>251</td>\n",
       "      <td>inc5yr_pnwrs</td>\n",
       "      <td>STRING</td>\n",
       "      <td>NULLABLE</td>\n",
       "      <td></td>\n",
       "    </tr>\n",
       "    <tr>\n",
       "      <td>252</td>\n",
       "      <td>ring_count_inner_2inches_pnwrs</td>\n",
       "      <td>STRING</td>\n",
       "      <td>NULLABLE</td>\n",
       "      <td></td>\n",
       "    </tr>\n",
       "    <tr>\n",
       "      <td>253</td>\n",
       "      <td>ring_count_pnwrs</td>\n",
       "      <td>STRING</td>\n",
       "      <td>NULLABLE</td>\n",
       "      <td></td>\n",
       "    </tr>\n",
       "    <tr>\n",
       "      <td>254</td>\n",
       "      <td>snag_dis_code_pnwrs</td>\n",
       "      <td>STRING</td>\n",
       "      <td>NULLABLE</td>\n",
       "      <td></td>\n",
       "    </tr>\n",
       "  </tbody>\n",
       "</table>\n",
       "<p>255 rows × 4 columns</p>\n",
       "</div>"
      ],
      "text/plain": [
       "                               name     type      mode  \\\n",
       "0              tree_sequence_number  INTEGER  NULLABLE   \n",
       "1              plot_sequence_number  INTEGER  NULLABLE   \n",
       "2     previous_tree_sequence_number  INTEGER  NULLABLE   \n",
       "3               tree_inventory_year  INTEGER  NULLABLE   \n",
       "4                   tree_state_code  INTEGER  NULLABLE   \n",
       "..                              ...      ...       ...   \n",
       "250                  inc5yrht_pnwrs   STRING  NULLABLE   \n",
       "251                    inc5yr_pnwrs   STRING  NULLABLE   \n",
       "252  ring_count_inner_2inches_pnwrs   STRING  NULLABLE   \n",
       "253                ring_count_pnwrs   STRING  NULLABLE   \n",
       "254             snag_dis_code_pnwrs   STRING  NULLABLE   \n",
       "\n",
       "                                           description  \n",
       "0    Foreign key linking the tree regional biomass ...  \n",
       "1    Foreign key linking the subplot record to the ...  \n",
       "2    Foreign key linking the tree to the previous i...  \n",
       "3    The year that best represents when the invento...  \n",
       "4    Bureau of the Census Federal Information Proce...  \n",
       "..                                                 ...  \n",
       "250                                                     \n",
       "251                                                     \n",
       "252                                                     \n",
       "253                                                     \n",
       "254                                                     \n",
       "\n",
       "[255 rows x 4 columns]"
      ]
     },
     "execution_count": 140,
     "metadata": {},
     "output_type": "execute_result"
    }
   ],
   "source": [
    "usfs.table_schema('tree')"
   ]
  },
  {
   "cell_type": "markdown",
   "metadata": {},
   "source": [
    "From the description, find the code of the tree (is it unique?)"
   ]
  },
  {
   "cell_type": "code",
   "execution_count": 109,
   "metadata": {},
   "outputs": [
    {
     "data": {
      "text/plain": [
       "[7]"
      ]
     },
     "execution_count": 109,
     "metadata": {},
     "output_type": "execute_result"
    }
   ],
   "source": [
    "usfs.table_schema('tree')[usfs.table_schema('tree')[\"description\"] == \"An identifier for a plot. Along with state code, inventory year, tree survey unit code, County code and/or some other combinations of variables, PLOT may be used to uniquely identify a plot.\"].index.tolist()"
   ]
  },
  {
   "cell_type": "code",
   "execution_count": 124,
   "metadata": {},
   "outputs": [
    {
     "data": {
      "text/html": [
       "<div>\n",
       "<style scoped>\n",
       "    .dataframe tbody tr th:only-of-type {\n",
       "        vertical-align: middle;\n",
       "    }\n",
       "\n",
       "    .dataframe tbody tr th {\n",
       "        vertical-align: top;\n",
       "    }\n",
       "\n",
       "    .dataframe thead th {\n",
       "        text-align: right;\n",
       "    }\n",
       "</style>\n",
       "<table border=\"1\" class=\"dataframe\">\n",
       "  <thead>\n",
       "    <tr style=\"text-align: right;\">\n",
       "      <th></th>\n",
       "      <th>name</th>\n",
       "      <th>type</th>\n",
       "      <th>mode</th>\n",
       "      <th>description</th>\n",
       "    </tr>\n",
       "  </thead>\n",
       "  <tbody>\n",
       "    <tr>\n",
       "      <td>0</td>\n",
       "      <td>tree_sequence_number</td>\n",
       "      <td>INTEGER</td>\n",
       "      <td>NULLABLE</td>\n",
       "      <td>Foreign key linking the tree regional biomass ...</td>\n",
       "    </tr>\n",
       "    <tr>\n",
       "      <td>1</td>\n",
       "      <td>plot_sequence_number</td>\n",
       "      <td>INTEGER</td>\n",
       "      <td>NULLABLE</td>\n",
       "      <td>Foreign key linking the subplot record to the ...</td>\n",
       "    </tr>\n",
       "    <tr>\n",
       "      <td>2</td>\n",
       "      <td>previous_tree_sequence_number</td>\n",
       "      <td>INTEGER</td>\n",
       "      <td>NULLABLE</td>\n",
       "      <td>Foreign key linking the tree to the previous i...</td>\n",
       "    </tr>\n",
       "    <tr>\n",
       "      <td>3</td>\n",
       "      <td>tree_inventory_year</td>\n",
       "      <td>INTEGER</td>\n",
       "      <td>NULLABLE</td>\n",
       "      <td>The year that best represents when the invento...</td>\n",
       "    </tr>\n",
       "    <tr>\n",
       "      <td>4</td>\n",
       "      <td>tree_state_code</td>\n",
       "      <td>INTEGER</td>\n",
       "      <td>NULLABLE</td>\n",
       "      <td>Bureau of the Census Federal Information Proce...</td>\n",
       "    </tr>\n",
       "    <tr>\n",
       "      <td>5</td>\n",
       "      <td>tree_survey_unit_code</td>\n",
       "      <td>INTEGER</td>\n",
       "      <td>NULLABLE</td>\n",
       "      <td>Forest Inventory and Analysis survey unit iden...</td>\n",
       "    </tr>\n",
       "    <tr>\n",
       "      <td>6</td>\n",
       "      <td>tree_county_code</td>\n",
       "      <td>INTEGER</td>\n",
       "      <td>NULLABLE</td>\n",
       "      <td>The identification number for a county, parish...</td>\n",
       "    </tr>\n",
       "    <tr>\n",
       "      <td>7</td>\n",
       "      <td>tree_phase_2_plot_number</td>\n",
       "      <td>INTEGER</td>\n",
       "      <td>NULLABLE</td>\n",
       "      <td>An identifier for a plot. Along with state cod...</td>\n",
       "    </tr>\n",
       "  </tbody>\n",
       "</table>\n",
       "</div>"
      ],
      "text/plain": [
       "                            name     type      mode  \\\n",
       "0           tree_sequence_number  INTEGER  NULLABLE   \n",
       "1           plot_sequence_number  INTEGER  NULLABLE   \n",
       "2  previous_tree_sequence_number  INTEGER  NULLABLE   \n",
       "3            tree_inventory_year  INTEGER  NULLABLE   \n",
       "4                tree_state_code  INTEGER  NULLABLE   \n",
       "5          tree_survey_unit_code  INTEGER  NULLABLE   \n",
       "6               tree_county_code  INTEGER  NULLABLE   \n",
       "7       tree_phase_2_plot_number  INTEGER  NULLABLE   \n",
       "\n",
       "                                         description  \n",
       "0  Foreign key linking the tree regional biomass ...  \n",
       "1  Foreign key linking the subplot record to the ...  \n",
       "2  Foreign key linking the tree to the previous i...  \n",
       "3  The year that best represents when the invento...  \n",
       "4  Bureau of the Census Federal Information Proce...  \n",
       "5  Forest Inventory and Analysis survey unit iden...  \n",
       "6  The identification number for a county, parish...  \n",
       "7  An identifier for a plot. Along with state cod...  "
      ]
     },
     "execution_count": 124,
     "metadata": {},
     "output_type": "execute_result"
    }
   ],
   "source": [
    "usfs.table_schema('tree').head(8)"
   ]
  },
  {
   "cell_type": "markdown",
   "metadata": {},
   "source": [
    "Found that it corresponds to \"tree_phase_2_plot_number\""
   ]
  },
  {
   "cell_type": "code",
   "execution_count": 142,
   "metadata": {},
   "outputs": [
    {
     "name": "stdout",
     "output_type": "stream",
     "text": [
      "tree_sequence_number\n",
      "plot_sequence_number\n",
      "previous_tree_sequence_number\n",
      "tree_inventory_year\n",
      "tree_state_code\n",
      "tree_survey_unit_code\n",
      "tree_county_code\n",
      "tree_phase_2_plot_number\n",
      "subplot_number\n",
      "tree_record_number\n",
      "condition_class_number\n",
      "azimuth\n",
      "horizontal_distance\n",
      "previous_condition_number\n",
      "tree_status_code\n",
      "tree_status_code_name\n",
      "species_code\n",
      "species_common_name\n",
      "species_scientific_name\n",
      "species_group_code\n",
      "species_group_code_name\n",
      "current_diameter\n",
      "diameter_height_code\n",
      "diameter_height_code_name\n",
      "total_height\n",
      "height_method_code\n",
      "height_method_code_name\n",
      "actual_height\n",
      "tree_class_code\n",
      "tree_class_code_name\n",
      "compacted_crown_ratio\n",
      "crown_class_code\n",
      "crown_class_code_name\n",
      "tree_grade_code\n",
      "cause_death_agent_code\n",
      "cause_death_agent_code_name\n",
      "rotten_and_missing_cull\n",
      "damage_location_1\n",
      "damage_location_1_name\n",
      "damage_type_1\n",
      "damage_type_1_name\n",
      "damage_severity_1\n",
      "damage_severity_1_name\n",
      "damage_location_2\n",
      "damage_location_2_name\n",
      "damage_type_2\n",
      "damage_type_2_name\n",
      "damage_severity_2\n",
      "damage_severity_2_name\n",
      "decay_class_code\n",
      "decay_class_code_name\n",
      "tree_stocking\n",
      "woodland_tree_species_stem_count\n",
      "net_cubicfoot_volume\n",
      "gross_cubicfoot_volume\n",
      "net_cubicfoot_volume_sawlog_portion_sawtimber_tree\n",
      "gross_cubicfoot_volume_sawlog_portion_sawtimber_tree\n",
      "net_boardfoot_volume_sawlog_portion_sawtimber_tree\n",
      "gross_boardfoot_volume_sawlog_portion_sawtimber_tree\n",
      "sound_cubicfoot_volume\n",
      "net_annual_merchantable_cubicfoot_growth_growingstock_tree_timberland\n",
      "net_annual_merchantable_boardfoot_growth_sawtimber_tree_timberland\n",
      "net_annual_sound_cubicfoot_growth_live_tree_timberland\n",
      "merchantable_cubicfoot_volume_growingstock_tree_timberland_mortality_purposes\n",
      "merchantable_boardfoot_volume_sawtimber_tree_timberland_mortality_purposes\n",
      "sound_cubicfoot_volume_tree_timberland_mortality_purposes\n",
      "merchantable_cubicfoot_volume_growingstock_tree_timberland_removal_purposes\n",
      "merchantable_boardfoot_volume_sawtimber_tree_timberland_removal_purposes\n",
      "sound_cubicfoot_volume_live_tree_timberland_removal_purposes\n",
      "diameter_check_code\n",
      "diameter_check_code_name\n",
      "mortality_year\n",
      "salvable_dead_code\n",
      "salvable_dead_code_name\n",
      "uncompacted_live_crown_ratio\n",
      "crown_position_code\n",
      "crown_position_code_name\n",
      "crown_light_exposure_code\n",
      "crown_light_exposure_code_name\n",
      "crown_vigor_code_sapling\n",
      "crown_vigor_code_sapling_name\n",
      "crown_density_code\n",
      "crown_density_code_name\n",
      "crown_dieback_code\n",
      "crown_dieback_code_name\n",
      "foliage_transparency_code\n",
      "foliage_transparency_code_name\n",
      "tree_history_code\n",
      "current_diameter_calculated\n",
      "breast_height_age\n",
      "total_age\n",
      "dead_cull\n",
      "form_cull\n",
      "missing_top_cull_field_recorded\n",
      "boardfoot_cull\n",
      "cubicfoot_cull\n",
      "boardfootcull_soundness\n",
      "cubicfootcull_soundness\n",
      "sawlog_height\n",
      "bole_height\n",
      "form_class\n",
      "form_class_name\n",
      "current_height_calculated\n",
      "hardwood_clump_code\n",
      "calculated_site_index\n",
      "tree_created_by\n",
      "tree_created_date\n",
      "tree_created_in_instance\n",
      "tree_modified_by\n",
      "tree_modified_date\n",
      "tree_modified_in_instance\n",
      "mortality_code\n",
      "mortality_code_name\n",
      "height_to_diameter_measurement_point\n",
      "rough_cull\n",
      "mistletoe_class_code\n",
      "mistletoe_class_code_name\n",
      "rotten_missing_cull_field_recorded\n",
      "reconcile_code\n",
      "reconcile_code_name\n",
      "previous_diameter\n",
      "net_annual_merchantable_cubicfoot_growth_growingstock_tree_forest_land\n",
      "net_annual_merchantable_boardfoot_growth_sawtimber_tree_forest_land\n",
      "net_annual_sound_cubicfoot_growth_live_tree_forest_land\n",
      "merchantable_cubicfoot_volume_growingstock_tree_forest_land_mortality_purposes\n",
      "merchantable_boardfoot_volume_sawtimber_tree_forest_land_mortality_purposes\n",
      "sound_cubicfoot_volume_tree_forest_land_mortality_purposes\n",
      "merchantable_cubicfoot_volume_growingstock_tree_forest_land_removal_purposes\n",
      "merchantable_boardfoot_volume_sawtimber_tree_forest_land_removal_purposes\n",
      "sound_cubicfoot_volume_live_tree_forest_land_removal_purposes\n",
      "periodic_annual_growth_removal_mortality_flag\n",
      "tree_class_code_northeastern_research_station\n",
      "tree_class_code_northeastern_research_station_name\n",
      "tree_class_code_southern_research_station\n",
      "tree_class_code_southern_research_station_name\n",
      "tree_class_code_north_central_research_station\n",
      "tree_class_code_north_central_research_station_name\n",
      "tree_class_code_rocky_mountain_research_station\n",
      "tree_class_code_rocky_mountain_research_station_name\n",
      "standing_dead_code\n",
      "standing_dead_code_name\n",
      "previous_tree_status_code\n",
      "previous_tree_status_code_name\n",
      "previous_woodland_stem_count\n",
      "trees_per_acre_unadjusted\n",
      "mortality_trees_per_acre_per_year_unadjusted\n",
      "removal_trees_per_acre_per_year_unadjusted\n",
      "growth_trees_per_acre_unadjusted\n",
      "dry_biomass_in_the_merchantable_bole\n",
      "dry_biomass_top_limbs_tree\n",
      "dry_biomass_tree_stump_at_t_1\n",
      "aboveground_dry_biomass_saplings\n",
      "aboveground_dry_biomass_woodland_tree_species\n",
      "belowground_dry_biomass\n",
      "aboveground_carbon\n",
      "belowground_carbon\n",
      "tree_inventory_cycle_number\n",
      "tree_inventory_subcycle_number\n",
      "tree_bored_code_pacific_northwest_research_station\n",
      "tree_bored_code_pacific_northwest_research_station_name\n",
      "damage_location_1_pacific_northwest_research_station\n",
      "damage_location_1_pacific_northwest_research_station_name\n",
      "damage_location_2_pacific_northwest_research_station\n",
      "damage_location_2_pacific_northwest_research_station_name\n",
      "diameter_check_pacific_northwest_research_station\n",
      "diameter_check_pacific_northwest_research_station_name\n",
      "damage_agent_1_pacific_northwest_research_station\n",
      "damage_agent_2_pacific_northwest_research_station\n",
      "damage_agent_3_pacific_northwest_research_station\n",
      "leafy_mistletoe_class_code_pacific_northwest_research_station\n",
      "leafy_mistletoe_class_code_pacific_northwest_research_station_name\n",
      "damage_severity_1_pacific_northwest_research_station_years_2001_2004\n",
      "damage_severity_1_a_pacific_northwest_research_station\n",
      "damage_severity_1_b_pacific_northwest_research_station\n",
      "damage_severity_1_b_pacific_northwest_research_station_name\n",
      "damage_severity_2_pacific_northwest_research_station_years_2001_2004\n",
      "damage_severity_2_a_pacific_northwest_research_station_starting_2005\n",
      "damage_severity_2_b_pacific_northwest_research_station_starting_2005\n",
      "damage_severity_3_pacific_northwest_research_station_years_2001_2004\n",
      "unknown_damage_type_1_pacific_northwest_research_station\n",
      "unknown_damage_type_1_pacific_northwest_research_station_name\n",
      "unknown_damage_type_2_pacific_northwest_research_station\n",
      "unknown_damage_type_2_pacific_northwest_research_station_name\n",
      "previous_periodic_prism_point_tree_number_southern_research_station\n",
      "disease_southern_research_station\n",
      "disease_southern_research_station_name\n",
      "dieback_severity_southern_research_station\n",
      "dieback_severity_southern_research_station_name\n",
      "damage_agent_code_1\n",
      "damage_agent_code_1_name\n",
      "damage_agent_code_2\n",
      "damage_agent_code_2_name\n",
      "damage_agent_code_3\n",
      "damage_agent_code_3_name\n",
      "centroid_diameter\n",
      "calculated_centroid_diameter_height\n",
      "actual_centroid_diameter_height\n",
      "upper_stem_diameter\n",
      "upper_stem_diameter_height\n",
      "sound_cubicfoot_volume_sawlog_portion\n",
      "dry_biomass_sawlog_portion_sawtimber_tree\n",
      "damage_agent_code_1_southern_research_station\n",
      "damage_agent_code_2_southern_research_station\n",
      "damage_agent_code_3_southern_research_station\n",
      "aboveground_dry_biomass\n",
      "unique_tree\n",
      "actualht_calc\n",
      "actualht_calc_code\n",
      "cull_bf_rotten\n",
      "cull_bf_rotten_code\n",
      "cull_bf_rough\n",
      "cull_bf_rough_code\n",
      "prevdia_fld\n",
      "treecl_code_31_ncrs\n",
      "tree_grade_ncrs\n",
      "boughs_available_ncrs\n",
      "boughs_hrvst_ncrs\n",
      "treecl_code_31_ners\n",
      "agent_code_ners\n",
      "bfsnd_code_ners\n",
      "agechk_code_rmrs\n",
      "dia_1yrago_rmrs\n",
      "growbfscr_rmrs\n",
      "growcfsawlog_rmrs\n",
      "ht_1yrago_rmrs\n",
      "prev_actualht_rmrs\n",
      "prev_agechk_code_rmrs\n",
      "prev_bhage_rmrs\n",
      "prev_ht_rmrs\n",
      "prev_totage_rmrs\n",
      "prev_treecl_code_rmrs\n",
      "radage_code_rmrs\n",
      "radgrw_rmrs\n",
      "volbfscrgrs_rmrs\n",
      "volbfscrnet_rmrs\n",
      "volcfdeadgrs_rmrs\n",
      "volcfsawgrs_rmrs\n",
      "volcfsawnet_rmrs\n",
      "volcftotnet_rmrs\n",
      "volcfuppgrs_rmrs\n",
      "volcfuppnet_rmrs\n",
      "sapling_fusiform_srs\n",
      "epiphyte_pnwrs\n",
      "root_ht_pnwrs\n",
      "cavity_use_pnwrs\n",
      "core_length_pnwrs\n",
      "culturally_killed_pnwrs\n",
      "dia_est_pnwrs\n",
      "gst_pnwrs\n",
      "inc10yr_pnwrs\n",
      "inc5yrht_pnwrs\n",
      "inc5yr_pnwrs\n",
      "ring_count_inner_2inches_pnwrs\n",
      "ring_count_pnwrs\n",
      "snag_dis_code_pnwrs\n"
     ]
    }
   ],
   "source": [
    "for i in usfs.table_schema('tree')[\"name\"]:\n",
    "    print(i)"
   ]
  },
  {
   "cell_type": "code",
   "execution_count": 75,
   "metadata": {},
   "outputs": [],
   "source": [
    "query2 = \"\"\"\n",
    "SELECT\n",
    "    AVG(current_diameter) as avg_dia,\n",
    "    AVG(total_height) as avg_heig,\n",
    "    measurement_year,\n",
    "    plot_county_code\n",
    "FROM\n",
    "    `bigquery-public-data.usfs_fia.plot_tree`\n",
    "WHERE\n",
    "    plot_state_code = 39\n",
    "    AND total_height > 0\n",
    "GROUP BY\n",
    "    plot_county_code,\n",
    "    measurement_year\n",
    ";        \"\"\"\n",
    "response2 = usfs.query_to_pandas_safe(query2, max_gb_scanned=10)"
   ]
  },
  {
   "cell_type": "code",
   "execution_count": 76,
   "metadata": {},
   "outputs": [
    {
     "data": {
      "text/plain": [
       "87     19\n",
       "141    19\n",
       "145    19\n",
       "105    19\n",
       "67     19\n",
       "       ..\n",
       "33      6\n",
       "123     6\n",
       "159     5\n",
       "137     5\n",
       "107     5\n",
       "Name: plot_county_code, Length: 88, dtype: int64"
      ]
     },
     "execution_count": 76,
     "metadata": {},
     "output_type": "execute_result"
    }
   ],
   "source": [
    "response2.plot_county_code.value_counts()"
   ]
  },
  {
   "cell_type": "code",
   "execution_count": 77,
   "metadata": {},
   "outputs": [],
   "source": [
    "jackson_count = response2[response2.plot_county_code == 141]"
   ]
  },
  {
   "cell_type": "code",
   "execution_count": 78,
   "metadata": {},
   "outputs": [
    {
     "data": {
      "text/html": [
       "<div>\n",
       "<style scoped>\n",
       "    .dataframe tbody tr th:only-of-type {\n",
       "        vertical-align: middle;\n",
       "    }\n",
       "\n",
       "    .dataframe tbody tr th {\n",
       "        vertical-align: top;\n",
       "    }\n",
       "\n",
       "    .dataframe thead th {\n",
       "        text-align: right;\n",
       "    }\n",
       "</style>\n",
       "<table border=\"1\" class=\"dataframe\">\n",
       "  <thead>\n",
       "    <tr style=\"text-align: right;\">\n",
       "      <th></th>\n",
       "      <th>avg_dia</th>\n",
       "      <th>avg_heig</th>\n",
       "      <th>measurement_year</th>\n",
       "      <th>plot_county_code</th>\n",
       "    </tr>\n",
       "  </thead>\n",
       "  <tbody>\n",
       "    <tr>\n",
       "      <td>842</td>\n",
       "      <td>9.256667</td>\n",
       "      <td>57.366667</td>\n",
       "      <td>2018</td>\n",
       "      <td>141</td>\n",
       "    </tr>\n",
       "    <tr>\n",
       "      <td>984</td>\n",
       "      <td>8.133333</td>\n",
       "      <td>62.567901</td>\n",
       "      <td>2019</td>\n",
       "      <td>141</td>\n",
       "    </tr>\n",
       "    <tr>\n",
       "      <td>1109</td>\n",
       "      <td>9.690805</td>\n",
       "      <td>63.218391</td>\n",
       "      <td>2004</td>\n",
       "      <td>141</td>\n",
       "    </tr>\n",
       "    <tr>\n",
       "      <td>1116</td>\n",
       "      <td>8.419608</td>\n",
       "      <td>60.549020</td>\n",
       "      <td>2013</td>\n",
       "      <td>141</td>\n",
       "    </tr>\n",
       "    <tr>\n",
       "      <td>1138</td>\n",
       "      <td>8.856522</td>\n",
       "      <td>60.500000</td>\n",
       "      <td>2001</td>\n",
       "      <td>141</td>\n",
       "    </tr>\n",
       "  </tbody>\n",
       "</table>\n",
       "</div>"
      ],
      "text/plain": [
       "       avg_dia   avg_heig  measurement_year  plot_county_code\n",
       "842   9.256667  57.366667              2018               141\n",
       "984   8.133333  62.567901              2019               141\n",
       "1109  9.690805  63.218391              2004               141\n",
       "1116  8.419608  60.549020              2013               141\n",
       "1138  8.856522  60.500000              2001               141"
      ]
     },
     "execution_count": 78,
     "metadata": {},
     "output_type": "execute_result"
    }
   ],
   "source": [
    "jackson_count.tail()"
   ]
  },
  {
   "cell_type": "code",
   "execution_count": 79,
   "metadata": {},
   "outputs": [
    {
     "data": {
      "text/plain": [
       "<matplotlib.collections.PathCollection at 0x129380cd0>"
      ]
     },
     "execution_count": 79,
     "metadata": {},
     "output_type": "execute_result"
    },
    {
     "data": {
      "image/png": "[encoded data removed]",
      "text/plain": [
       "<Figure size 432x288 with 1 Axes>"
      ]
     },
     "metadata": {
      "needs_background": "light"
     },
     "output_type": "display_data"
    }
   ],
   "source": [
    "plt.scatter(jackson_count[\"measurement_year\"],jackson_count[\"avg_heig\"])"
   ]
  },
  {
   "cell_type": "code",
   "execution_count": 143,
   "metadata": {},
   "outputs": [],
   "source": [
    "query3 = \"\"\"\n",
    "SELECT\n",
    "    tree_phase_2_plot_number,\n",
    "    total_height as avg_heig,\n",
    "    measurement_year,\n",
    "    measurement_month,\n",
    "    plot_county_code\n",
    "FROM\n",
    "    `bigquery-public-data.usfs_fia.plot_tree`\n",
    "WHERE\n",
    "    plot_state_code = 39\n",
    "    AND total_height > 0\n",
    "\n",
    ";        \"\"\"\n",
    "response3 = usfs.query_to_pandas_safe(query3, max_gb_scanned=10)"
   ]
  },
  {
   "cell_type": "code",
   "execution_count": 144,
   "metadata": {},
   "outputs": [
    {
     "data": {
      "text/plain": [
       "224     203\n",
       "388     176\n",
       "220     173\n",
       "778     170\n",
       "3747    166\n",
       "       ... \n",
       "2350      1\n",
       "3222      1\n",
       "3411      1\n",
       "5097      1\n",
       "2187      1\n",
       "Name: tree_phase_2_plot_number, Length: 1875, dtype: int64"
      ]
     },
     "execution_count": 144,
     "metadata": {},
     "output_type": "execute_result"
    }
   ],
   "source": [
    "response3.tree_phase_2_plot_number.value_counts()"
   ]
  },
  {
   "cell_type": "code",
   "execution_count": 145,
   "metadata": {},
   "outputs": [],
   "source": [
    "sameTree = response3[response3.tree_phase_2_plot_number == 224]"
   ]
  },
  {
   "cell_type": "code",
   "execution_count": 169,
   "metadata": {},
   "outputs": [],
   "source": [
    "year = []\n",
    "for MY in sameTree.measurement_year:\n",
    "#     date.append(datetime.datetime(sameTree[\"measurement_year\"], sameTree[\"measurement_month\"], 1))\n",
    "    year.append(MY)\n",
    "\n",
    "month = []\n",
    "for MY in sameTree.measurement_month:\n",
    "    month.append(MY)\n",
    "\n",
    "date = []\n",
    "for i in range(len(month)):\n",
    "    date.append(datetime.datetime(year[i],month[i],1))"
   ]
  },
  {
   "cell_type": "code",
   "execution_count": 222,
   "metadata": {},
   "outputs": [],
   "source": [
    "means = sameTree.groupby(\"measurement_year\", as_index=False).mean()\n",
    "means_date=[datetime.datetime(2001,4,1),datetime.datetime(2008,2,1),datetime.datetime(2013,1,1),datetime.datetime(2019,3,1)]"
   ]
  },
  {
   "cell_type": "code",
   "execution_count": 241,
   "metadata": {},
   "outputs": [
    {
     "data": {
      "image/png": "[encoded data removed]",
      "text/plain": [
       "<Figure size 720x288 with 1 Axes>"
      ]
     },
     "metadata": {
      "needs_background": "light"
     },
     "output_type": "display_data"
    }
   ],
   "source": [
    "from pandas.plotting import register_matplotlib_converters\n",
    "register_matplotlib_converters()\n",
    "from matplotlib.dates import (YEARLY, MONTHLY, DateFormatter,\n",
    "                              rrulewrapper, RRuleLocator, drange)\n",
    "fig, ax = plt.subplots(figsize=(10,4))\n",
    "rule = rrulewrapper(MONTHLY, interval=10)\n",
    "loc = RRuleLocator(rule)\n",
    "formatter = DateFormatter('%m/%y')\n",
    "plt.plot_date(date, sameTree[\"avg_heig\"], label = \"Avg height\")\n",
    "plt.plot_date(means_date, means[\"avg_heig\"], marker=\"^\", markersize=10, label=\"Mean of heights\")\n",
    "\n",
    "ax.xaxis.set_major_locator(loc)\n",
    "ax.xaxis.set_major_formatter(formatter)\n",
    "ax.xaxis.set_tick_params(rotation=60, labelsize=10)\n",
    "plt.legend()\n",
    "plt.xlabel(\"Date [mm/yy]\", fontsize=15)\n",
    "plt.ylabel(\"Avg height [some units]\",fontsize=15)\n",
    "plt.tight_layout()\n",
    "plt.savefig(\"datevsTreeHeight.png\", dpi=150)"
   ]
  },
  {
   "cell_type": "code",
   "execution_count": 193,
   "metadata": {},
   "outputs": [
    {
     "data": {
      "text/plain": [
       "measurement_year\n",
       "2001    4.0\n",
       "2008    2.0\n",
       "2013    1.0\n",
       "2019    3.0\n",
       "Name: measurement_month, dtype: float64"
      ]
     },
     "execution_count": 193,
     "metadata": {},
     "output_type": "execute_result"
    }
   ],
   "source": [
    "means.measurement_month"
   ]
  },
  {
   "cell_type": "code",
   "execution_count": null,
   "metadata": {},
   "outputs": [],
   "source": []
  }
 ],
 "metadata": {
  "kernelspec": {
   "display_name": "Python 3",
   "language": "python",
   "name": "python3"
  },
  "language_info": {
   "codemirror_mode": {
    "name": "ipython",
    "version": 3
   },
   "file_extension": ".py",
   "mimetype": "text/x-python",
   "name": "python",
   "nbconvert_exporter": "python",
   "pygments_lexer": "ipython3",
   "version": "3.7.4"
  }
 },
 "nbformat": 4,
 "nbformat_minor": 2
}
