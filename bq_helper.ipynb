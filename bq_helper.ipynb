{
 "cells": [
  {
   "cell_type": "code",
   "execution_count": 3,
   "metadata": {},
   "outputs": [],
   "source": [
    "import numpy as np\n",
    "import pandas as pd\n",
    "import sqlite3\n",
    "import bq_helper\n",
    "from bq_helper import BigQueryHelper"
   ]
  },
  {
   "cell_type": "code",
   "execution_count": 2,
   "metadata": {},
   "outputs": [],
   "source": [
    "usfs = bq_helper.BigQueryHelper(active_project=\"bigquery-public-data\",\n",
    "                                   dataset_name=\"usfs_fia\")  "
   ]
  },
  {
   "cell_type": "code",
   "execution_count": 4,
   "metadata": {},
   "outputs": [
    {
     "data": {
      "text/plain": [
       "['condition',\n",
       " 'estimated_forestland_acres',\n",
       " 'estimated_timberland_acres',\n",
       " 'plot',\n",
       " 'plot_tree',\n",
       " 'population',\n",
       " 'population_estimation_unit',\n",
       " 'population_evaluation',\n",
       " 'population_evaluation_group',\n",
       " 'population_evaluation_type',\n",
       " 'population_stratum',\n",
       " 'population_stratum_assign',\n",
       " 'tree']"
      ]
     },
     "execution_count": 4,
     "metadata": {},
     "output_type": "execute_result"
    }
   ],
   "source": [
    "bq_assistant = BigQueryHelper(\"bigquery-public-data\", \"usfs_fia\")\n",
    "bq_assistant.list_tables()"
   ]
  },
  {
   "cell_type": "code",
   "execution_count": null,
   "metadata": {},
   "outputs": [],
   "source": [
    "species = ['Red Maple','Loblolly Pine','SweetGum','Douglas-Fir','Quaking Aspen','Sugar Maple','Balsam Fir','Flowering Dogwood','Lodgepole Pine','White Oak']\n",
    "varr = ['316','131','611','202','746','318','12','491','108','802']\n",
    "i=0\n",
    "for var in varr:\n",
    "    query1 = f\"\"\"\n",
    "        SELECT\n",
    "            plot_sequence_number,\n",
    "            plot_state_code,\n",
    "            measurement_year,\n",
    "            measurement_month,\n",
    "            species_code,\n",
    "            latitude,\n",
    "            longitude,\n",
    "            AVG(total_height) as avg_height,\n",
    "            AVG(current_diameter) as avg_diameter\n",
    "        FROM\n",
    "            `bigquery-public-data.usfs_fia.plot_tree`\n",
    "        WHERE\n",
    "            species_code = {var}\n",
    "        GROUP BY\n",
    "             plot_sequence_number,\n",
    "             plot_state_code,\n",
    "             measurement_year,\n",
    "             measurement_month,\n",
    "             species_code,\n",
    "             latitude,\n",
    "             longitude\n",
    "        ;\n",
    "                \"\"\"\n",
    "#AND plot_county_code = {var}\n",
    " #plot_state_code = 39\n",
    "    response1 = usfs.query_to_pandas_safe(query1, max_gb_scanned=10)\n",
    "    response1.to_sql(species[i],conn, if_exists='replace')\n",
    "    i+=1\n",
    "\n",
    "    "
   ]
  }
 ],
 "metadata": {
  "kernelspec": {
   "display_name": "Python 3",
   "language": "python",
   "name": "python3"
  },
  "language_info": {
   "codemirror_mode": {
    "name": "ipython",
    "version": 3
   },
   "file_extension": ".py",
   "mimetype": "text/x-python",
   "name": "python",
   "nbconvert_exporter": "python",
   "pygments_lexer": "ipython3",
   "version": "3.7.3"
  }
 },
 "nbformat": 4,
 "nbformat_minor": 2
}
