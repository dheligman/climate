{
 "cells": [
  {
   "cell_type": "code",
   "execution_count": 8,
   "metadata": {},
   "outputs": [],
   "source": [
    "#data management imports\n",
    "import numpy as np\n",
    "import pandas as pd\n",
    "\n",
    "#plotting imports\n",
    "import matplotlib.pyplot as plt\n",
    "import seaborn as sns\n",
    "sns.set_style(\"whitegrid\")\n",
    "\n",
    "#modeling imports\n",
    "from sklearn.pipeline import Pipeline\n",
    "from sklearn.svm import SVC\n",
    "from sklearn.naive_bayes import GaussianNB\n",
    "from sklearn.ensemble import RandomForestClassifier, VotingClassifier\n",
    "from sklearn.neural_network import MLPClassifier\n",
    "from sklearn.preprocessing import StandardScaler\n",
    "from sklearn.decomposition import PCA\n",
    "\n",
    "#sklearn shortcuts\n",
    "from sklearn.preprocessing import LabelEncoder\n",
    "from sklearn.model_selection import train_test_split\n",
    "from sklearn.model_selection import cross_val_predict\n",
    "from sklearn.metrics import precision_score, recall_score, accuracy_score\n",
    "from sklearn.metrics import confusion_matrix\n",
    "\n",
    "#misc python packages\n",
    "from IPython.display import clear_output\n",
    "import time"
   ]
  },
  {
   "cell_type": "code",
   "execution_count": 9,
   "metadata": {},
   "outputs": [],
   "source": [
    "#load trees data\n",
    "trees = pd.read_csv('county_tree_temp_dwp_prcp_KT_NS10.csv')\n",
    "trees = trees.sort_values(['state_code','county_code','species','year'])\n",
    "trees = trees.reset_index(drop = True)\n",
    "\n",
    "#clean data\n",
    "trees = trees.drop(trees.loc[(trees.volume == 0) | (trees.height == 0)].index)\n",
    "\n",
    "le = LabelEncoder()\n",
    "trees['speciesID'] = le.fit_transform(trees.species)\n",
    "trees['volume'] = trees['volume'] / trees['number_trees']\n",
    "trees['Biomass'] = trees['Biomass'] / trees['number_trees']\n",
    "trees['height'] = trees['height'] / trees['number_trees']\n",
    "trees['diameter'] = trees['diameter'] / trees['number_trees']\n",
    "trees['Density'] = trees['Biomass']/trees['volume']\n",
    "trees['logMass'] = np.log(trees['Biomass'])\n",
    "trees['logvolume'] = np.log(trees['volume'])\n",
    "trees['logdensity'] = np.log(trees['Density'])\n",
    "trees = trees.drop(trees.loc[trees.Density > 100].index)\n",
    "\n",
    "species = trees.species.unique()"
   ]
  },
  {
   "cell_type": "code",
   "execution_count": 10,
   "metadata": {},
   "outputs": [],
   "source": [
    "spe = ['loblolly pine','sweetgum','red maple','slash pine','yellow-poplar',\n",
    "      'balsam fir','sugar maple','quaking aspen','northern white-cedar','paper birch']\n",
    "\n",
    "#define features to be used\n",
    "features = ['latitude','longitude','Density','mean_temp','height','logdensity',\n",
    "            'Biomass','diameter','mean_prcp','mean_dwp','volume','logMass','logvolume']\n",
    "\n",
    "trees10 = trees.loc[trees.species.isin(spe)].copy()\n",
    "\n",
    "#split data\n",
    "trees10 = trees.loc[trees.species.isin(spe)].copy() #top 10 trees\n",
    "train,test = train_test_split(trees10,test_size=.1,shuffle=True,stratify = trees10.speciesID,random_state = 42)\n",
    "\n",
    "t0 = time.perf_counter()\n",
    "y = train.speciesID\n",
    "X = train[features].copy()"
   ]
  },
  {
   "cell_type": "code",
   "execution_count": 11,
   "metadata": {},
   "outputs": [],
   "source": [
    "gnb = Pipeline([('scaler',StandardScaler()),\n",
    "                 ('GausNB',GaussianNB())])"
   ]
  },
  {
   "cell_type": "code",
   "execution_count": 12,
   "metadata": {},
   "outputs": [],
   "source": [
    "pred = cross_val_predict(gnb,X,y, cv=4, n_jobs = -1)"
   ]
  },
  {
   "cell_type": "code",
   "execution_count": 13,
   "metadata": {},
   "outputs": [
    {
     "data": {
      "text/html": [
       "<div>\n",
       "<style scoped>\n",
       "    .dataframe tbody tr th:only-of-type {\n",
       "        vertical-align: middle;\n",
       "    }\n",
       "\n",
       "    .dataframe tbody tr th {\n",
       "        vertical-align: top;\n",
       "    }\n",
       "\n",
       "    .dataframe thead th {\n",
       "        text-align: right;\n",
       "    }\n",
       "</style>\n",
       "<table border=\"1\" class=\"dataframe\">\n",
       "  <thead>\n",
       "    <tr style=\"text-align: right;\">\n",
       "      <th></th>\n",
       "      <th>accuracy</th>\n",
       "      <th>recall</th>\n",
       "      <th>precision</th>\n",
       "    </tr>\n",
       "  </thead>\n",
       "  <tbody>\n",
       "    <tr>\n",
       "      <th>balsam fir</th>\n",
       "      <td>0.000000</td>\n",
       "      <td>0.878820</td>\n",
       "      <td>0.598278</td>\n",
       "    </tr>\n",
       "    <tr>\n",
       "      <th>loblolly pine</th>\n",
       "      <td>0.000000</td>\n",
       "      <td>0.598227</td>\n",
       "      <td>0.453478</td>\n",
       "    </tr>\n",
       "    <tr>\n",
       "      <th>northern white-cedar</th>\n",
       "      <td>0.000000</td>\n",
       "      <td>0.782357</td>\n",
       "      <td>0.658180</td>\n",
       "    </tr>\n",
       "    <tr>\n",
       "      <th>paper birch</th>\n",
       "      <td>0.000000</td>\n",
       "      <td>0.724609</td>\n",
       "      <td>0.317955</td>\n",
       "    </tr>\n",
       "    <tr>\n",
       "      <th>quaking aspen</th>\n",
       "      <td>0.000000</td>\n",
       "      <td>0.458480</td>\n",
       "      <td>0.715351</td>\n",
       "    </tr>\n",
       "    <tr>\n",
       "      <th>red maple</th>\n",
       "      <td>0.000000</td>\n",
       "      <td>0.339983</td>\n",
       "      <td>0.460689</td>\n",
       "    </tr>\n",
       "    <tr>\n",
       "      <th>slash pine</th>\n",
       "      <td>0.000000</td>\n",
       "      <td>0.597358</td>\n",
       "      <td>0.432182</td>\n",
       "    </tr>\n",
       "    <tr>\n",
       "      <th>sugar maple</th>\n",
       "      <td>0.000000</td>\n",
       "      <td>0.573349</td>\n",
       "      <td>0.747903</td>\n",
       "    </tr>\n",
       "    <tr>\n",
       "      <th>sweetgum</th>\n",
       "      <td>0.000000</td>\n",
       "      <td>0.439694</td>\n",
       "      <td>0.356721</td>\n",
       "    </tr>\n",
       "    <tr>\n",
       "      <th>yellow-poplar</th>\n",
       "      <td>0.000000</td>\n",
       "      <td>0.453810</td>\n",
       "      <td>0.594328</td>\n",
       "    </tr>\n",
       "    <tr>\n",
       "      <th>Total</th>\n",
       "      <td>0.492146</td>\n",
       "      <td>0.584669</td>\n",
       "      <td>0.533507</td>\n",
       "    </tr>\n",
       "  </tbody>\n",
       "</table>\n",
       "</div>"
      ],
      "text/plain": [
       "                      accuracy    recall  precision\n",
       "balsam fir            0.000000  0.878820   0.598278\n",
       "loblolly pine         0.000000  0.598227   0.453478\n",
       "northern white-cedar  0.000000  0.782357   0.658180\n",
       "paper birch           0.000000  0.724609   0.317955\n",
       "quaking aspen         0.000000  0.458480   0.715351\n",
       "red maple             0.000000  0.339983   0.460689\n",
       "slash pine            0.000000  0.597358   0.432182\n",
       "sugar maple           0.000000  0.573349   0.747903\n",
       "sweetgum              0.000000  0.439694   0.356721\n",
       "yellow-poplar         0.000000  0.453810   0.594328\n",
       "Total                 0.492146  0.584669   0.533507"
      ]
     },
     "execution_count": 13,
     "metadata": {},
     "output_type": "execute_result"
    }
   ],
   "source": [
    "pred_df = pd.DataFrame({'speciesID':y,'pred':pred,'correct': y == pred})\n",
    "pred_df = pred_df.reset_index(drop = True)\n",
    "\n",
    "precision = precision_score(y,pred, average = None)\n",
    "recall = recall_score(y,pred, average = None)\n",
    "matrix = confusion_matrix(y, pred)\n",
    "accuracy = np.zeros(len(recall))\n",
    "speID = le.transform(spe)\n",
    "orderedspecies = le.inverse_transform(np.sort(speID))\n",
    "final = pd.DataFrame({'accuracy':accuracy,\n",
    "                      'recall':recall,\n",
    "                      'precision':precision},\n",
    "                     index = orderedspecies)\n",
    "final.loc['Total'] = [accuracy_score(y,pred),\n",
    "                      recall_score(y,pred, average = 'macro'),\n",
    "                      precision_score(y,pred, average = 'macro')]\n",
    "final"
   ]
  },
  {
   "cell_type": "code",
   "execution_count": 14,
   "metadata": {},
   "outputs": [
    {
     "data": {
      "image/png": "[encoded data removed]",
      "text/plain": [
       "<Figure size 1152x504 with 1 Axes>"
      ]
     },
     "metadata": {},
     "output_type": "display_data"
    }
   ],
   "source": [
    "final.plot.bar(fontsize = 16,figsize = (16,7),legend = False)\n",
    "plt.ylim((0,1.15))\n",
    "plt.xlabel('',fontsize = 16)\n",
    "plt.title('Support Vector Machine Classifier',fontsize = 16)\n",
    "plt.legend(loc = 1,fontsize = 14)\n",
    "plt.show()"
   ]
  },
  {
   "cell_type": "markdown",
   "metadata": {},
   "source": [
    "### Grid Search Below to Find Optimal Parameters for the SVM"
   ]
  },
  {
   "cell_type": "markdown",
   "metadata": {},
   "source": [
    "from sklearn.model_selection import cross_val_score\n",
    "\n",
    "scores = []\n",
    "C = []\n",
    "coef = []\n",
    "\n",
    "for coe in [0.1,1,10,100,1e3]:\n",
    "    for c in [0.1,0.5,1,5,10]:\n",
    "        clf2 = Pipeline([\n",
    "            (\"scaler\",StandardScaler()),\n",
    "            (\"svm_clf\",SVC(kernel = \"poly\", degree = 2, coef0 = coe, C=c))\n",
    "        ])\n",
    "        scores.append(cross_val_score(clf2,X, y, cv = 4, n_jobs = -1).mean())\n",
    "        C.append(c)\n",
    "        coef.append(coe)"
   ]
  },
  {
   "cell_type": "markdown",
   "metadata": {},
   "source": [
    "best = np.argmax(scores)\n",
    "plt.plot(scores)\n",
    "print(f'C = {C[best]}, Coef0 = {coef[best]}, Score = {scores[best]}')"
   ]
  },
  {
   "cell_type": "code",
   "execution_count": 15,
   "metadata": {},
   "outputs": [],
   "source": [
    "final.to_csv('GNBPred.csv')"
   ]
  },
  {
   "cell_type": "code",
   "execution_count": null,
   "metadata": {},
   "outputs": [],
   "source": []
  }
 ],
 "metadata": {
  "kernelspec": {
   "display_name": "Python 3",
   "language": "python",
   "name": "python3"
  },
  "language_info": {
   "codemirror_mode": {
    "name": "ipython",
    "version": 3
   },
   "file_extension": ".py",
   "mimetype": "text/x-python",
   "name": "python",
   "nbconvert_exporter": "python",
   "pygments_lexer": "ipython3",
   "version": "3.7.6"
  }
 },
 "nbformat": 4,
 "nbformat_minor": 4
}
