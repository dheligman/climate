{
 "cells": [
  {
   "cell_type": "code",
   "execution_count": 3,
   "metadata": {},
   "outputs": [],
   "source": [
    "##Import necessary packages\n",
    "import numpy as np\n",
    "import pandas as pd\n",
    "import matplotlib.pyplot as plt\n",
    "import sqlite3\n",
    "from IPython.display import clear_output\n",
    "##Import bq_helper to pull forestry data from Kaggle\n",
    "from bq_helper import BigQueryHelper #pip install -e git+https://github.com/SohierDane/BigQuery_Helper#egg=bq_helper\n",
    "import os\n",
    "#Setup Google Credentials(Data is stored on Google Cloud Servers)\n",
    "os.environ[\"GOOGLE_APPLICATION_CREDENTIALS\"]=\"ErdosTrees-f85df8c8cb95.json\" #Get .json file from Google Cloud Platform"
   ]
  },
  {
   "cell_type": "code",
   "execution_count": 4,
   "metadata": {},
   "outputs": [],
   "source": [
    "##Connect to USFS FIA data and list the available datasets\n",
    "usfs = BigQueryHelper(\"bigquery-public-data\", \"usfs_fia\")\n",
    "#usfs.list_tables()"
   ]
  },
  {
   "cell_type": "code",
   "execution_count": 93,
   "metadata": {},
   "outputs": [
    {
     "name": "stdout",
     "output_type": "stream",
     "text": [
      "['loblolly pine', 'red maple', 'sweetgum', 'Douglas-fir', 'slash pine', 'white oak', 'sugar maple', 'quaking aspen', 'lodgepole pine', 'ponderosa pine']\n"
     ]
    }
   ],
   "source": [
    "#This gets a list of the 10 most common trees in the data set\n",
    "query1 = f\"\"\"\n",
    "    SELECT\n",
    "        species_common_name,\n",
    "        COUNT(species_common_name)\n",
    "    FROM\n",
    "        `bigquery-public-data.usfs_fia.plot_tree`\n",
    "    WHERE\n",
    "        total_height > 0\n",
    "    GROUP BY\n",
    "        species_common_name\n",
    "    ;        \"\"\"\n",
    "df = usfs.query_to_pandas_safe(query1, max_gb_scanned=10)\n",
    "species = list(df.sort_values('f0_',ascending = False).head(10).species_common_name)\n",
    "print(species)"
   ]
  },
  {
   "cell_type": "code",
   "execution_count": 105,
   "metadata": {},
   "outputs": [],
   "source": [
    "#List of states in alphabetical order and USFS state ids\n",
    "states = [\"Alabama\",\"Alaska\",\"Arizona\",\"Arkansas\",\"California\",\"Colorado\",\n",
    "  \"Connecticut\",\"Delaware\",\"Florida\",\"Georgia\",\"Hawaii\",\"Idaho\",\"Illinois\",\n",
    "  \"Indiana\",\"Iowa\",\"Kansas\",\"Kentucky\",\"Louisiana\",\"Maine\",\"Maryland\",\n",
    "  \"Massachusetts\",\"Michigan\",\"Minnesota\",\"Mississippi\",\"Missouri\",\"Montana\",\n",
    "  \"Nebraska\",\"Nevada\",\"New Hampshire\",\"New Jersey\",\"New Mexico\",\"New York\",\n",
    "  \"North Carolina\",\"North Dakota\",\"Ohio\",\"Oklahoma\",\"Oregon\",\"Pennsylvania\",\n",
    "  \"Rhode Island\",\"South Carolina\",\"South Dakota\",\"Tennessee\",\"Texas\",\"Utah\",\n",
    "  \"Vermont\",\"Virginia\",\"Washington\",\"West Virginia\",\"Wisconsin\",\"Wyoming\"]\n",
    "state_id = [1,2,4,5,6,8,9,10,12,13,15,16,17,18,19,20,21,22,23,24,25,26,27,28,\n",
    "           29,30,31,32,33,34,35,36,37,38,39,40,41,42,44,45,46,47,48,49,50,51,\n",
    "           53,54,55,56]"
   ]
  },
  {
   "cell_type": "code",
   "execution_count": 122,
   "metadata": {},
   "outputs": [],
   "source": [
    "#Create dataframe for holding full species data \n",
    "c = species.copy()\n",
    "c.insert(0,'State')\n",
    "trees = pd.DataFrame(index=state_id, columns=c)\n",
    "trees['State'] = states"
   ]
  },
  {
   "cell_type": "code",
   "execution_count": 154,
   "metadata": {},
   "outputs": [],
   "source": [
    "#Get population of each species for each state and then  save as a csv\n",
    "for s in species:\n",
    "    query = f\"\"\"\n",
    "        SELECT\n",
    "            plot_state_code,\n",
    "            COUNT(species_common_name)\n",
    "        FROM\n",
    "            `bigquery-public-data.usfs_fia.plot_tree`\n",
    "        WHERE\n",
    "            species_common_name = \"{s}\"\n",
    "            AND total_height > 0\n",
    "        GROUP BY\n",
    "             plot_state_code\n",
    "        ;\n",
    "                \"\"\"\n",
    "    df = usfs.query_to_pandas_safe(query, max_gb_scanned=10)\n",
    "    \n",
    "    df.set_index('plot_state_code', inplace=True)\n",
    "    for ind in df.index:\n",
    "        try:\n",
    "            trees.loc[ind].loc[s] = df['f0_'][ind]\n",
    "        except:\n",
    "            print(f'state id {ind} failed')\n",
    "trees = trees.fillna(0)\n",
    "trees.to_csv('TreePop.csv') #save to csv for plotting later"
   ]
  },
  {
   "cell_type": "code",
   "execution_count": null,
   "metadata": {},
   "outputs": [],
   "source": [
    "#Currently nothing... just some code I want to keep track of, will be using parts of it later perhaps...\n",
    "#Don't run this cell, it won't work\n",
    "for s in species:\n",
    "    query = f\"\"\"\n",
    "        SELECT\n",
    "            plot_state_code,\n",
    "            AVG(total_height) as avg_height,\n",
    "            AVG(current_diameter) as avg_diameter,\n",
    "            total_height,\n",
    "            current_diameter,\n",
    "            measurement_year,\n",
    "            latitude,\n",
    "            longitude\n",
    "        FROM\n",
    "            `bigquery-public-data.usfs_fia.plot_tree`\n",
    "        WHERE\n",
    "            species_common_name = {s}\n",
    "            AND total_height > 0\n",
    "        GROUP BY\n",
    "             plot_sequence_number,\n",
    "             plot_state_code,\n",
    "             measurement_year,\n",
    "             measurement_month,\n",
    "             species_code,\n",
    "             latitude,\n",
    "             longitude\n",
    "        ;\n",
    "                \"\"\"\n",
    "\n",
    "#This will create a dataframe of the number of trees sampled for each tree type across the entire US\n",
    "#The final output is a list of the 10 trees that have the highest frequency in the most states (not the most populous...)\n",
    "#This cell is also not used right now...\n",
    "trees = pd.DataFrame(columns = ['num_Trees','num_States','States'])\n",
    "for i in range(1,51):\n",
    "    clear_output(wait=True)\n",
    "    print(f'Now working on: {states[i-1]}')\n",
    "    query1 = f\"\"\"\n",
    "        SELECT\n",
    "            species_common_name,\n",
    "        FROM\n",
    "            `bigquery-public-data.usfs_fia.plot_tree`\n",
    "        WHERE\n",
    "            total_height > 0\n",
    "            AND plot_state_code = {i}\n",
    "        ;        \"\"\"\n",
    "    df = usfs.query_to_pandas_safe(query1, max_gb_scanned=2)\n",
    "    df_Trees = df['species_common_name'].value_counts()\n",
    "    df_Trees = df_Trees[df_Trees > 1000]\n",
    "    for j,t in enumerate(df_Trees.index):\n",
    "        if t in trees.index:\n",
    "            trees.loc[t] = {'num_Trees':df_Trees[j] + trees.loc[t].num_Trees,\n",
    "                            'num_States':trees.loc[t].num_States + 1,\n",
    "                            'States':trees.loc[t].States + f',{states[i-1]}'}\n",
    "        else:\n",
    "            trees.loc[t] = {'num_Trees':df_Trees[j],'num_States':1,'States':states[i-1]}\n",
    "clear_output(wait=True)\n",
    "print('Finished!')\n",
    "#Top 10 trees with a population of over 1000 that occur in the most states\n",
    "numStates = list(trees.sort_values('num_States',ascending = False).index[:10])"
   ]
  }
 ],
 "metadata": {
  "kernelspec": {
   "display_name": "Python 3",
   "language": "python",
   "name": "python3"
  },
  "language_info": {
   "codemirror_mode": {
    "name": "ipython",
    "version": 3
   },
   "file_extension": ".py",
   "mimetype": "text/x-python",
   "name": "python",
   "nbconvert_exporter": "python",
   "pygments_lexer": "ipython3",
   "version": "3.8.2"
  }
 },
 "nbformat": 4,
 "nbformat_minor": 2
}
