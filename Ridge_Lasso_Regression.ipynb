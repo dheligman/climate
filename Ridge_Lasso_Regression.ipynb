{
 "cells": [
  {
   "cell_type": "code",
   "execution_count": 1,
   "metadata": {},
   "outputs": [],
   "source": [
    "import matplotlib.pyplot as plt\n",
    "import pandas as pd\n",
    "import numpy as np\n",
    "from mpl_toolkits.mplot3d import Axes3D"
   ]
  },
  {
   "cell_type": "code",
   "execution_count": 2,
   "metadata": {},
   "outputs": [],
   "source": [
    "df = pd.read_csv('temp.csv', index_col = None)\n",
    "df = df.drop(['Unnamed: 0'], axis = 1)"
   ]
  },
  {
   "cell_type": "code",
   "execution_count": 4,
   "metadata": {},
   "outputs": [
    {
     "data": {
      "text/plain": [
       "Index(['year', 'state_code', 'county_code', 'species', 'latitude', 'longitude',\n",
       "       'volume', 'Biomass', 'number_trees', 'mean_temp', 'mean_dwp',\n",
       "       'mean_prcp', 'psgc', 'gssc', 'state_county', 'psgc1', 'psgc2', 'psgc3',\n",
       "       'mean_biomass', 'dmean_biomass_dt', 'log_mean_mass',\n",
       "       'dlog_mean_mass_dt', 'mean_volume', 'dmean_volume_dt',\n",
       "       'log_mean_volume', 'dlog_mean_volume_dt'],\n",
       "      dtype='object')"
      ]
     },
     "execution_count": 4,
     "metadata": {},
     "output_type": "execute_result"
    }
   ],
   "source": [
    "df.columns"
   ]
  },
  {
   "cell_type": "code",
   "execution_count": 61,
   "metadata": {},
   "outputs": [],
   "source": [
    "df[df.species.unique()] = pd.get_dummies(df.species)"
   ]
  },
  {
   "cell_type": "code",
   "execution_count": 72,
   "metadata": {},
   "outputs": [
    {
     "data": {
      "text/plain": [
       "array(['loblolly pine', 'red maple', 'slash pine', 'sweetgum',\n",
       "       'yellow-poplar', 'mean_temp', 'mean_prcp'], dtype=object)"
      ]
     },
     "execution_count": 72,
     "metadata": {},
     "output_type": "execute_result"
    }
   ],
   "source": [
    "np.append(species, inputs)"
   ]
  },
  {
   "cell_type": "code",
   "execution_count": 205,
   "metadata": {},
   "outputs": [],
   "source": [
    "df_copy = df.copy()\n",
    "species = df.species.unique()\n",
    "inputs = ['mean_temp','mean_prcp']\n",
    "\n",
    "X = df_copy[np.append(inputs,species)]\n",
    "y = df_copy['mean_biomass'].values / df_copy['mean_volume']\n",
    "\n",
    "mask = np.isfinite(y) & (y < 60)\n",
    "\n",
    "X = X[mask]\n",
    "y = y[mask]"
   ]
  },
  {
   "cell_type": "code",
   "execution_count": 198,
   "metadata": {
    "scrolled": true
   },
   "outputs": [],
   "source": [
    "from sklearn.pipeline import Pipeline\n",
    "from sklearn.preprocessing import PolynomialFeatures\n",
    "from sklearn.linear_model import Ridge\n",
    "from sklearn.linear_model import Lasso"
   ]
  },
  {
   "cell_type": "code",
   "execution_count": 199,
   "metadata": {},
   "outputs": [],
   "source": [
    "from sklearn.model_selection import cross_val_score"
   ]
  },
  {
   "cell_type": "code",
   "execution_count": 207,
   "metadata": {},
   "outputs": [
    {
     "name": "stdout",
     "output_type": "stream",
     "text": [
      "[-3.73438592056727, -3.59030537390941, -3.58684115964842, -3.5832622180388425, -3.5832991044825975, -3.5865829127537205]\n"
     ]
    }
   ],
   "source": [
    "alphas = [0.00001,0.0001,0.001,0.01,0.1,1.0]\n",
    "\n",
    "scores = []\n",
    "coeffs = []\n",
    "\n",
    "for a in alphas:\n",
    "    ridge_pipe = Pipeline([('poly',PolynomialFeatures(6)),\n",
    "                           ('reg', Ridge(alpha=a, normalize=True))])\n",
    "    \n",
    "    scores.append(np.mean( cross_val_score(ridge_pipe,X,y, scoring = 'neg_root_mean_squared_error') )) \n",
    "print(scores)"
   ]
  },
  {
   "cell_type": "code",
   "execution_count": 201,
   "metadata": {},
   "outputs": [
    {
     "name": "stdout",
     "output_type": "stream",
     "text": [
      "[0.16547469162400405, 0.17094989869257604, 0.17463736078778913, 0.17478649116512057, 0.17477024317685713, 0.17298765924835133]\n"
     ]
    }
   ],
   "source": [
    "alphas = [0.00001,0.0001,0.001,0.01,0.1,1.0]\n",
    "\n",
    "scores = []\n",
    "coeffs = []\n",
    "\n",
    "for a in alphas:\n",
    "    ridge_pipe = Pipeline([('poly',PolynomialFeatures(5)),\n",
    "                           ('reg', Ridge(alpha=a, normalize=True))])\n",
    "    \n",
    "    scores.append(np.mean( cross_val_score(ridge_pipe,X,y, scoring = 'r2') )) \n",
    "print(scores)"
   ]
  },
  {
   "cell_type": "code",
   "execution_count": 128,
   "metadata": {},
   "outputs": [
    {
     "data": {
      "text/plain": [
       "19.2355"
      ]
     },
     "execution_count": 128,
     "metadata": {},
     "output_type": "execute_result"
    }
   ],
   "source": [
    "ridge_pipe = Pipeline([('poly',PolynomialFeatures(5)),\n",
    "                           ('reg', Ridge(alpha=1e-3, normalize=True))])\n",
    "\n",
    "ridge_pipe.fit(X,y)\n",
    "\n",
    "ridge_pipe['reg'].coef_\n",
    "\n",
    "res = y - ridge_pipe.predict(X)\n",
    "\n",
    "np.round(np.sqrt( np.sum(np.power(res,2))/len(res) ),5)"
   ]
  },
  {
   "cell_type": "code",
   "execution_count": 196,
   "metadata": {},
   "outputs": [
    {
     "data": {
      "image/png": "[encoded data removed]",
      "text/plain": [
       "<Figure size 432x288 with 1 Axes>"
      ]
     },
     "metadata": {
      "needs_background": "light"
     },
     "output_type": "display_data"
    }
   ],
   "source": [
    "species = df.species.unique()\n",
    "df_copy = df.copy()\n",
    "\n",
    "for s in species:\n",
    "    temp = df.copy()\n",
    "    temp = temp.loc[temp.species == s]\n",
    "    y = temp['mean_biomass'] / temp['mean_volume']\n",
    "\n",
    "    mask = np.isfinite(y) & (y < 60)\n",
    "\n",
    "    y = y[mask]\n",
    "\n",
    "    plt.hist(y, bins = 1000, range = (10,40), label = s)\n",
    "plt.legend()\n",
    "plt.show()"
   ]
  },
  {
   "cell_type": "code",
   "execution_count": 144,
   "metadata": {},
   "outputs": [
    {
     "data": {
      "text/plain": [
       "(-5, 60)"
      ]
     },
     "execution_count": 144,
     "metadata": {},
     "output_type": "execute_result"
    },
    {
     "data": {
      "image/png": "[encoded data removed]",
      "text/plain": [
       "<Figure size 432x288 with 1 Axes>"
      ]
     },
     "metadata": {
      "needs_background": "light"
     },
     "output_type": "display_data"
    }
   ],
   "source": [
    "plt.scatter(df.mean_temp.values[mask], y)\n",
    "plt.ylim(-5,60)"
   ]
  },
  {
   "cell_type": "code",
   "execution_count": 146,
   "metadata": {},
   "outputs": [
    {
     "data": {
      "text/plain": [
       "0.0033168633909781316"
      ]
     },
     "execution_count": 146,
     "metadata": {},
     "output_type": "execute_result"
    }
   ],
   "source": [
    "sum(y > 60) / len(y)"
   ]
  },
  {
   "cell_type": "code",
   "execution_count": 163,
   "metadata": {},
   "outputs": [
    {
     "data": {
      "image/png": "[encoded data removed]",
      "text/plain": [
       "<Figure size 432x288 with 1 Axes>"
      ]
     },
     "metadata": {
      "needs_background": "light"
     },
     "output_type": "display_data"
    }
   ],
   "source": [
    "temp = df.copy()\n",
    "temp = temp.loc[temp.species == 'red maple']\n",
    "y = temp['mean_biomass'] / temp['mean_volume']\n",
    "\n",
    "mask = np.isfinite(y) \n",
    "\n",
    "y = y[mask]\n",
    "\n",
    "plt.hist(y, bins = 1000, range = (0,60))\n",
    "plt.show()"
   ]
  },
  {
   "cell_type": "code",
   "execution_count": 179,
   "metadata": {},
   "outputs": [],
   "source": [
    "temp = df.copy()\n",
    "y = temp['mean_biomass'] / temp['mean_volume']\n",
    "\n",
    "mask = np.isfinite(y)\n",
    "y = y[mask]"
   ]
  },
  {
   "cell_type": "code",
   "execution_count": null,
   "metadata": {},
   "outputs": [],
   "source": []
  }
 ],
 "metadata": {
  "kernelspec": {
   "display_name": "Python 3",
   "language": "python",
   "name": "python3"
  },
  "language_info": {
   "codemirror_mode": {
    "name": "ipython",
    "version": 3
   },
   "file_extension": ".py",
   "mimetype": "text/x-python",
   "name": "python",
   "nbconvert_exporter": "python",
   "pygments_lexer": "ipython3",
   "version": "3.7.6"
  }
 },
 "nbformat": 4,
 "nbformat_minor": 4
}
