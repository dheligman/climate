{
 "cells": [
  {
   "cell_type": "code",
   "execution_count": 1,
   "metadata": {},
   "outputs": [],
   "source": [
    "import pandas as pd\n",
    "import numpy as np\n",
    "import bq_helper\n",
    "from bq_helper import BigQueryHelper"
   ]
  },
  {
   "cell_type": "code",
   "execution_count": 2,
   "metadata": {},
   "outputs": [],
   "source": [
    "noaa_gsod = bq_helper.BigQueryHelper(active_project= \"bigquery-public-data\", \n",
    "                                     dataset_name= \"noaa_gsod\")\n"
   ]
  },
  {
   "cell_type": "code",
   "execution_count": 3,
   "metadata": {},
   "outputs": [
    {
     "data": {
      "text/plain": [
       "['gsod1929',\n",
       " 'gsod1930',\n",
       " 'gsod1931',\n",
       " 'gsod1932',\n",
       " 'gsod1933',\n",
       " 'gsod1934',\n",
       " 'gsod1935',\n",
       " 'gsod1936',\n",
       " 'gsod1937',\n",
       " 'gsod1938',\n",
       " 'gsod1939',\n",
       " 'gsod1940',\n",
       " 'gsod1941',\n",
       " 'gsod1942',\n",
       " 'gsod1943',\n",
       " 'gsod1944',\n",
       " 'gsod1945',\n",
       " 'gsod1946',\n",
       " 'gsod1947',\n",
       " 'gsod1948',\n",
       " 'gsod1949',\n",
       " 'gsod1950',\n",
       " 'gsod1951',\n",
       " 'gsod1952',\n",
       " 'gsod1953',\n",
       " 'gsod1954',\n",
       " 'gsod1955',\n",
       " 'gsod1956',\n",
       " 'gsod1957',\n",
       " 'gsod1958',\n",
       " 'gsod1959',\n",
       " 'gsod1960',\n",
       " 'gsod1961',\n",
       " 'gsod1962',\n",
       " 'gsod1963',\n",
       " 'gsod1964',\n",
       " 'gsod1965',\n",
       " 'gsod1966',\n",
       " 'gsod1967',\n",
       " 'gsod1968',\n",
       " 'gsod1969',\n",
       " 'gsod1970',\n",
       " 'gsod1971',\n",
       " 'gsod1972',\n",
       " 'gsod1973',\n",
       " 'gsod1974',\n",
       " 'gsod1975',\n",
       " 'gsod1976',\n",
       " 'gsod1977',\n",
       " 'gsod1978',\n",
       " 'gsod1979',\n",
       " 'gsod1980',\n",
       " 'gsod1981',\n",
       " 'gsod1982',\n",
       " 'gsod1983',\n",
       " 'gsod1984',\n",
       " 'gsod1985',\n",
       " 'gsod1986',\n",
       " 'gsod1987',\n",
       " 'gsod1988',\n",
       " 'gsod1989',\n",
       " 'gsod1990',\n",
       " 'gsod1991',\n",
       " 'gsod1992',\n",
       " 'gsod1993',\n",
       " 'gsod1994',\n",
       " 'gsod1995',\n",
       " 'gsod1996',\n",
       " 'gsod1997',\n",
       " 'gsod1998',\n",
       " 'gsod1999',\n",
       " 'gsod2000',\n",
       " 'gsod2001',\n",
       " 'gsod2002',\n",
       " 'gsod2003',\n",
       " 'gsod2004',\n",
       " 'gsod2005',\n",
       " 'gsod2006',\n",
       " 'gsod2007',\n",
       " 'gsod2008',\n",
       " 'gsod2009',\n",
       " 'gsod2010',\n",
       " 'gsod2011',\n",
       " 'gsod2012',\n",
       " 'gsod2013',\n",
       " 'gsod2014',\n",
       " 'gsod2015',\n",
       " 'gsod2016',\n",
       " 'gsod2017',\n",
       " 'gsod2018',\n",
       " 'gsod2019',\n",
       " 'gsod2020',\n",
       " 'stations']"
      ]
     },
     "execution_count": 3,
     "metadata": {},
     "output_type": "execute_result"
    }
   ],
   "source": [
    "bq_assistant = BigQueryHelper(\"bigquery-public-data\", \"noaa_gsod\")\n",
    "\n",
    "bq_assistant.list_tables()"
   ]
  },
  {
   "cell_type": "code",
   "execution_count": 75,
   "metadata": {},
   "outputs": [],
   "source": [
    "var = tuple(stations.Station_numbers)"
   ]
  },
  {
   "cell_type": "code",
   "execution_count": 92,
   "metadata": {},
   "outputs": [],
   "source": [
    "query1 = \"\"\"\n",
    "            SELECT \n",
    "                usaf AS Station_numbers, \n",
    "                lat AS Latitude, \n",
    "                lon AS Longitude, \n",
    "            FROM \n",
    "                `bigquery-public-data.noaa_gsod.stations` \n",
    "            WHERE \n",
    "                country = 'US' AND lat IS NOT NULL AND lon IS NOT NULL AND NOT (lat = 0.0 AND lon = 0.0) \n",
    "            ORDER BY \n",
    "                usaf\n",
    "        \"\"\"\n",
    "query2 = f\"\"\"\n",
    "            SELECT \n",
    "                stn AS Station_number, \n",
    "                year AS Year, \n",
    "                mo AS Month, \n",
    "                AVG(temp) as Mean_temp\n",
    "            FROM \n",
    "                `bigquery-public-data.noaa_gsod.gsod2020` \n",
    "            WHERE \n",
    "                Stn in {var}\n",
    "            GROUP BY\n",
    "                stn, \n",
    "                year, \n",
    "                mo\n",
    "        \"\"\"\n",
    "\n"
   ]
  },
  {
   "cell_type": "code",
   "execution_count": 86,
   "metadata": {},
   "outputs": [],
   "source": [
    "stations = noaa_gsod.query_to_pandas_safe(query1, max_gb_scanned=10)"
   ]
  },
  {
   "cell_type": "code",
   "execution_count": 93,
   "metadata": {},
   "outputs": [],
   "source": [
    "gsod2020 = noaa_gsod.query_to_pandas_safe(query2, max_gb_scanned=10)"
   ]
  },
  {
   "cell_type": "code",
   "execution_count": 77,
   "metadata": {},
   "outputs": [],
   "source": [
    "gsod2020 = gsod2020.sort_values('Station_number')\n",
    "stations = stations.sort_values('Station_numbers')"
   ]
  },
  {
   "cell_type": "code",
   "execution_count": 95,
   "metadata": {},
   "outputs": [
    {
     "data": {
      "text/plain": [
       "12442"
      ]
     },
     "execution_count": 95,
     "metadata": {},
     "output_type": "execute_result"
    }
   ],
   "source": [
    "len(gsod2020)"
   ]
  },
  {
   "cell_type": "code",
   "execution_count": 79,
   "metadata": {},
   "outputs": [
    {
     "data": {
      "text/html": [
       "<div>\n",
       "<style scoped>\n",
       "    .dataframe tbody tr th:only-of-type {\n",
       "        vertical-align: middle;\n",
       "    }\n",
       "\n",
       "    .dataframe tbody tr th {\n",
       "        vertical-align: top;\n",
       "    }\n",
       "\n",
       "    .dataframe thead th {\n",
       "        text-align: right;\n",
       "    }\n",
       "</style>\n",
       "<table border=\"1\" class=\"dataframe\">\n",
       "  <thead>\n",
       "    <tr style=\"text-align: right;\">\n",
       "      <th></th>\n",
       "      <th>Station_numbers</th>\n",
       "      <th>Latitude</th>\n",
       "      <th>Longitude</th>\n",
       "    </tr>\n",
       "  </thead>\n",
       "  <tbody>\n",
       "    <tr>\n",
       "      <th>0</th>\n",
       "      <td>621010</td>\n",
       "      <td>50.6</td>\n",
       "      <td>-2.933</td>\n",
       "    </tr>\n",
       "    <tr>\n",
       "      <th>1</th>\n",
       "      <td>621110</td>\n",
       "      <td>58.9</td>\n",
       "      <td>-0.200</td>\n",
       "    </tr>\n",
       "    <tr>\n",
       "      <th>2</th>\n",
       "      <td>621130</td>\n",
       "      <td>58.4</td>\n",
       "      <td>0.300</td>\n",
       "    </tr>\n",
       "    <tr>\n",
       "      <th>3</th>\n",
       "      <td>621160</td>\n",
       "      <td>58.1</td>\n",
       "      <td>1.800</td>\n",
       "    </tr>\n",
       "    <tr>\n",
       "      <th>4</th>\n",
       "      <td>621170</td>\n",
       "      <td>57.9</td>\n",
       "      <td>0.100</td>\n",
       "    </tr>\n",
       "  </tbody>\n",
       "</table>\n",
       "</div>"
      ],
      "text/plain": [
       "  Station_numbers  Latitude  Longitude\n",
       "0          621010      50.6     -2.933\n",
       "1          621110      58.9     -0.200\n",
       "2          621130      58.4      0.300\n",
       "3          621160      58.1      1.800\n",
       "4          621170      57.9      0.100"
      ]
     },
     "execution_count": 79,
     "metadata": {},
     "output_type": "execute_result"
    }
   ],
   "source": [
    "stations.head()"
   ]
  },
  {
   "cell_type": "code",
   "execution_count": null,
   "metadata": {},
   "outputs": [],
   "source": []
  }
 ],
 "metadata": {
  "kernelspec": {
   "display_name": "Python 3",
   "language": "python",
   "name": "python3"
  },
  "language_info": {
   "codemirror_mode": {
    "name": "ipython",
    "version": 3
   },
   "file_extension": ".py",
   "mimetype": "text/x-python",
   "name": "python",
   "nbconvert_exporter": "python",
   "pygments_lexer": "ipython3",
   "version": "3.7.3"
  }
 },
 "nbformat": 4,
 "nbformat_minor": 2
}
