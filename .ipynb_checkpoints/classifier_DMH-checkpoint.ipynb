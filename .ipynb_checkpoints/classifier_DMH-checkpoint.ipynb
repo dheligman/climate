{
 "cells": [
  {
   "cell_type": "markdown",
   "metadata": {},
   "source": [
    "# Random Forest Classifier"
   ]
  },
  {
   "cell_type": "code",
   "execution_count": 15,
   "metadata": {},
   "outputs": [],
   "source": [
    "#import libraries\n",
    "import pandas as pd\n",
    "from pandas.plotting import scatter_matrix\n",
    "from sklearn.pipeline import Pipeline\n",
    "from sklearn.model_selection import train_test_split\n",
    "import matplotlib.pyplot as plt\n",
    "import seaborn as sns\n",
    "sns.set_style('whitegrid')"
   ]
  },
  {
   "cell_type": "code",
   "execution_count": 91,
   "metadata": {},
   "outputs": [],
   "source": [
    "from sklearn.base import TransformerMixin, BaseEstimator\n",
    "from sklearn.preprocessing import StandardScaler, OneHotEncoder\n",
    "import numpy as np\n",
    "from sklearn.preprocessing import OrdinalEncoder, LabelEncoder\n",
    "from sklearn.decomposition import PCA"
   ]
  },
  {
   "cell_type": "code",
   "execution_count": 95,
   "metadata": {},
   "outputs": [],
   "source": [
    "#Defining the columns that will be used\n",
    "columns = ['latitude','longitude','Density',\n",
    "            'mean_temp','height','log_density',\n",
    "            'Biomass','diameter','mean_prcp',\n",
    "            'mean_dwp','volume','log_mass',\n",
    "            'log_volume']"
   ]
  },
  {
   "cell_type": "code",
   "execution_count": 77,
   "metadata": {},
   "outputs": [],
   "source": [
    "#importing more libraries\n",
    "from sklearn.ensemble import RandomForestClassifier\n",
    "from sklearn.model_selection import cross_val_score, cross_val_predict\n",
    "from sklearn.metrics import precision_score, recall_score, accuracy_score, confusion_matrix"
   ]
  },
  {
   "cell_type": "code",
   "execution_count": 96,
   "metadata": {},
   "outputs": [],
   "source": [
    "#Loading the data\n",
    "more_trees = pd.read_csv('county_tree_temp_dwp_prcp_KT_NS10.csv')"
   ]
  },
  {
   "cell_type": "code",
   "execution_count": 97,
   "metadata": {},
   "outputs": [],
   "source": [
    "more_trees = more_trees.sort_values(['state_code','county_code','species','year'])\n",
    "more_trees = more_trees.reset_index(drop = True)"
   ]
  },
  {
   "cell_type": "code",
   "execution_count": 139,
   "metadata": {},
   "outputs": [
    {
     "data": {
      "text/html": [
       "<div>\n",
       "<style scoped>\n",
       "    .dataframe tbody tr th:only-of-type {\n",
       "        vertical-align: middle;\n",
       "    }\n",
       "\n",
       "    .dataframe tbody tr th {\n",
       "        vertical-align: top;\n",
       "    }\n",
       "\n",
       "    .dataframe thead th {\n",
       "        text-align: right;\n",
       "    }\n",
       "</style>\n",
       "<table border=\"1\" class=\"dataframe\">\n",
       "  <thead>\n",
       "    <tr style=\"text-align: right;\">\n",
       "      <th></th>\n",
       "      <th>year</th>\n",
       "      <th>state_code</th>\n",
       "      <th>county_code</th>\n",
       "      <th>species</th>\n",
       "      <th>latitude</th>\n",
       "      <th>longitude</th>\n",
       "      <th>volume</th>\n",
       "      <th>Biomass</th>\n",
       "      <th>height</th>\n",
       "      <th>diameter</th>\n",
       "      <th>number_trees</th>\n",
       "      <th>mean_temp</th>\n",
       "      <th>mean_dwp</th>\n",
       "      <th>mean_prcp</th>\n",
       "    </tr>\n",
       "  </thead>\n",
       "  <tbody>\n",
       "    <tr>\n",
       "      <th>0</th>\n",
       "      <td>2001</td>\n",
       "      <td>1</td>\n",
       "      <td>1</td>\n",
       "      <td>American beech</td>\n",
       "      <td>32.638680</td>\n",
       "      <td>-86.697701</td>\n",
       "      <td>0.000000</td>\n",
       "      <td>3.537096</td>\n",
       "      <td>23.0</td>\n",
       "      <td>1.8</td>\n",
       "      <td>1</td>\n",
       "      <td>68.050000</td>\n",
       "      <td>54.900915</td>\n",
       "      <td>0.158415</td>\n",
       "    </tr>\n",
       "    <tr>\n",
       "      <th>1</th>\n",
       "      <td>2002</td>\n",
       "      <td>1</td>\n",
       "      <td>1</td>\n",
       "      <td>American beech</td>\n",
       "      <td>32.474319</td>\n",
       "      <td>-86.785027</td>\n",
       "      <td>11.680000</td>\n",
       "      <td>315.524063</td>\n",
       "      <td>108.0</td>\n",
       "      <td>15.1</td>\n",
       "      <td>2</td>\n",
       "      <td>64.719048</td>\n",
       "      <td>56.036415</td>\n",
       "      <td>0.106695</td>\n",
       "    </tr>\n",
       "    <tr>\n",
       "      <th>2</th>\n",
       "      <td>2005</td>\n",
       "      <td>1</td>\n",
       "      <td>1</td>\n",
       "      <td>American beech</td>\n",
       "      <td>32.472313</td>\n",
       "      <td>-86.848312</td>\n",
       "      <td>18.958753</td>\n",
       "      <td>470.077309</td>\n",
       "      <td>131.0</td>\n",
       "      <td>19.7</td>\n",
       "      <td>3</td>\n",
       "      <td>64.913151</td>\n",
       "      <td>53.533973</td>\n",
       "      <td>0.146822</td>\n",
       "    </tr>\n",
       "    <tr>\n",
       "      <th>3</th>\n",
       "      <td>2007</td>\n",
       "      <td>1</td>\n",
       "      <td>1</td>\n",
       "      <td>American beech</td>\n",
       "      <td>32.600650</td>\n",
       "      <td>-86.652128</td>\n",
       "      <td>66.214596</td>\n",
       "      <td>1628.982895</td>\n",
       "      <td>278.0</td>\n",
       "      <td>46.7</td>\n",
       "      <td>5</td>\n",
       "      <td>66.600015</td>\n",
       "      <td>53.480981</td>\n",
       "      <td>0.103108</td>\n",
       "    </tr>\n",
       "    <tr>\n",
       "      <th>4</th>\n",
       "      <td>2008</td>\n",
       "      <td>1</td>\n",
       "      <td>1</td>\n",
       "      <td>American beech</td>\n",
       "      <td>32.472313</td>\n",
       "      <td>-86.848312</td>\n",
       "      <td>20.248340</td>\n",
       "      <td>525.440371</td>\n",
       "      <td>140.0</td>\n",
       "      <td>20.5</td>\n",
       "      <td>3</td>\n",
       "      <td>65.081967</td>\n",
       "      <td>52.525137</td>\n",
       "      <td>0.145301</td>\n",
       "    </tr>\n",
       "  </tbody>\n",
       "</table>\n",
       "</div>"
      ],
      "text/plain": [
       "   year  state_code  county_code         species   latitude  longitude  \\\n",
       "0  2001           1            1  American beech  32.638680 -86.697701   \n",
       "1  2002           1            1  American beech  32.474319 -86.785027   \n",
       "2  2005           1            1  American beech  32.472313 -86.848312   \n",
       "3  2007           1            1  American beech  32.600650 -86.652128   \n",
       "4  2008           1            1  American beech  32.472313 -86.848312   \n",
       "\n",
       "      volume      Biomass  height  diameter  number_trees  mean_temp  \\\n",
       "0   0.000000     3.537096    23.0       1.8             1  68.050000   \n",
       "1  11.680000   315.524063   108.0      15.1             2  64.719048   \n",
       "2  18.958753   470.077309   131.0      19.7             3  64.913151   \n",
       "3  66.214596  1628.982895   278.0      46.7             5  66.600015   \n",
       "4  20.248340   525.440371   140.0      20.5             3  65.081967   \n",
       "\n",
       "    mean_dwp  mean_prcp  \n",
       "0  54.900915   0.158415  \n",
       "1  56.036415   0.106695  \n",
       "2  53.533973   0.146822  \n",
       "3  53.480981   0.103108  \n",
       "4  52.525137   0.145301  "
      ]
     },
     "execution_count": 139,
     "metadata": {},
     "output_type": "execute_result"
    }
   ],
   "source": [
    "more_trees.head()"
   ]
  },
  {
   "cell_type": "code",
   "execution_count": 57,
   "metadata": {},
   "outputs": [],
   "source": [
    "#defining the top 10 trees\n",
    "top10 = ['loblolly pine','sweetgum','red maple','slash pine','yellow-poplar',\n",
    "      'balsam fir','sugar maple','quaking aspen','northern white-cedar','paper birch']"
   ]
  },
  {
   "cell_type": "code",
   "execution_count": 111,
   "metadata": {},
   "outputs": [],
   "source": [
    "top_10_trees = more_trees\n",
    "le = LabelEncoder()"
   ]
  },
  {
   "cell_type": "code",
   "execution_count": 112,
   "metadata": {},
   "outputs": [],
   "source": [
    "#Adding all needed features\n",
    "top_10_trees = top_10_trees.assign(mean_volume = lambda x: x.volume/x.number_trees)\n",
    "top_10_trees = top_10_trees.assign(mean_mass = lambda x: x.Biomass/x.number_trees)\n",
    "top_10_trees = top_10_trees.loc[top_10_trees.mean_volume !=0]\n",
    "top_10_trees = top_10_trees.assign(log_volume = lambda x: np.log(x.mean_volume))\n",
    "top_10_trees = top_10_trees.loc[top_10_trees.mean_mass != 0]\n",
    "top_10_trees = top_10_trees.assign(log_mass = lambda x: np.log(x.mean_mass))\n",
    "top_10_trees = top_10_trees.assign(Density = lambda x: x.mean_mass/x.mean_volume)\n",
    "top_10_trees = top_10_trees.assign(log_density = lambda x: np.log(x.Density))\n",
    "top_10_trees = top_10_trees.drop(top_10_trees.loc[top_10_trees.Density > 100].index)\n",
    "top_10_trees = top_10_trees.loc[top_10_trees.species.isin(top10)]"
   ]
  },
  {
   "cell_type": "code",
   "execution_count": 103,
   "metadata": {},
   "outputs": [
    {
     "data": {
      "text/html": [
       "<div>\n",
       "<style scoped>\n",
       "    .dataframe tbody tr th:only-of-type {\n",
       "        vertical-align: middle;\n",
       "    }\n",
       "\n",
       "    .dataframe tbody tr th {\n",
       "        vertical-align: top;\n",
       "    }\n",
       "\n",
       "    .dataframe thead th {\n",
       "        text-align: right;\n",
       "    }\n",
       "</style>\n",
       "<table border=\"1\" class=\"dataframe\">\n",
       "  <thead>\n",
       "    <tr style=\"text-align: right;\">\n",
       "      <th></th>\n",
       "      <th>year</th>\n",
       "      <th>state_code</th>\n",
       "      <th>county_code</th>\n",
       "      <th>species</th>\n",
       "      <th>latitude</th>\n",
       "      <th>longitude</th>\n",
       "      <th>volume</th>\n",
       "      <th>Biomass</th>\n",
       "      <th>height</th>\n",
       "      <th>diameter</th>\n",
       "      <th>number_trees</th>\n",
       "      <th>mean_temp</th>\n",
       "      <th>mean_dwp</th>\n",
       "      <th>mean_prcp</th>\n",
       "      <th>mean_volume</th>\n",
       "      <th>mean_mass</th>\n",
       "      <th>log_volume</th>\n",
       "      <th>log_mass</th>\n",
       "      <th>Density</th>\n",
       "      <th>log_density</th>\n",
       "    </tr>\n",
       "  </thead>\n",
       "  <tbody>\n",
       "    <tr>\n",
       "      <th>20</th>\n",
       "      <td>2001</td>\n",
       "      <td>1</td>\n",
       "      <td>1</td>\n",
       "      <td>loblolly pine</td>\n",
       "      <td>32.578953</td>\n",
       "      <td>-86.593001</td>\n",
       "      <td>254.208304</td>\n",
       "      <td>5270.671429</td>\n",
       "      <td>2172.0</td>\n",
       "      <td>349.500000</td>\n",
       "      <td>50</td>\n",
       "      <td>67.470830</td>\n",
       "      <td>54.867025</td>\n",
       "      <td>0.153781</td>\n",
       "      <td>5.084166</td>\n",
       "      <td>105.413429</td>\n",
       "      <td>1.626131</td>\n",
       "      <td>4.657890</td>\n",
       "      <td>20.733671</td>\n",
       "      <td>3.031759</td>\n",
       "    </tr>\n",
       "    <tr>\n",
       "      <th>21</th>\n",
       "      <td>2002</td>\n",
       "      <td>1</td>\n",
       "      <td>1</td>\n",
       "      <td>loblolly pine</td>\n",
       "      <td>32.562518</td>\n",
       "      <td>-86.581838</td>\n",
       "      <td>866.406357</td>\n",
       "      <td>17082.823611</td>\n",
       "      <td>3131.0</td>\n",
       "      <td>573.799996</td>\n",
       "      <td>62</td>\n",
       "      <td>68.069951</td>\n",
       "      <td>56.273165</td>\n",
       "      <td>0.157042</td>\n",
       "      <td>13.974296</td>\n",
       "      <td>275.529413</td>\n",
       "      <td>2.637220</td>\n",
       "      <td>5.618694</td>\n",
       "      <td>19.716872</td>\n",
       "      <td>2.981475</td>\n",
       "    </tr>\n",
       "    <tr>\n",
       "      <th>22</th>\n",
       "      <td>2003</td>\n",
       "      <td>1</td>\n",
       "      <td>1</td>\n",
       "      <td>loblolly pine</td>\n",
       "      <td>32.535969</td>\n",
       "      <td>-86.734196</td>\n",
       "      <td>247.211446</td>\n",
       "      <td>5014.143237</td>\n",
       "      <td>1905.0</td>\n",
       "      <td>348.899998</td>\n",
       "      <td>47</td>\n",
       "      <td>64.080156</td>\n",
       "      <td>55.591629</td>\n",
       "      <td>0.158144</td>\n",
       "      <td>5.259818</td>\n",
       "      <td>106.683899</td>\n",
       "      <td>1.660096</td>\n",
       "      <td>4.669870</td>\n",
       "      <td>20.282812</td>\n",
       "      <td>3.009774</td>\n",
       "    </tr>\n",
       "    <tr>\n",
       "      <th>23</th>\n",
       "      <td>2004</td>\n",
       "      <td>1</td>\n",
       "      <td>1</td>\n",
       "      <td>loblolly pine</td>\n",
       "      <td>32.578173</td>\n",
       "      <td>-86.627483</td>\n",
       "      <td>206.510939</td>\n",
       "      <td>4220.421067</td>\n",
       "      <td>1786.0</td>\n",
       "      <td>308.200000</td>\n",
       "      <td>48</td>\n",
       "      <td>67.785707</td>\n",
       "      <td>55.894512</td>\n",
       "      <td>0.179133</td>\n",
       "      <td>4.302311</td>\n",
       "      <td>87.925439</td>\n",
       "      <td>1.459152</td>\n",
       "      <td>4.476489</td>\n",
       "      <td>20.436792</td>\n",
       "      <td>3.017337</td>\n",
       "    </tr>\n",
       "    <tr>\n",
       "      <th>24</th>\n",
       "      <td>2005</td>\n",
       "      <td>1</td>\n",
       "      <td>1</td>\n",
       "      <td>loblolly pine</td>\n",
       "      <td>32.551779</td>\n",
       "      <td>-86.647174</td>\n",
       "      <td>608.371252</td>\n",
       "      <td>12257.789499</td>\n",
       "      <td>3163.0</td>\n",
       "      <td>597.999998</td>\n",
       "      <td>65</td>\n",
       "      <td>66.449850</td>\n",
       "      <td>54.171372</td>\n",
       "      <td>0.163352</td>\n",
       "      <td>9.359558</td>\n",
       "      <td>188.581377</td>\n",
       "      <td>2.236398</td>\n",
       "      <td>5.239530</td>\n",
       "      <td>20.148535</td>\n",
       "      <td>3.003132</td>\n",
       "    </tr>\n",
       "  </tbody>\n",
       "</table>\n",
       "</div>"
      ],
      "text/plain": [
       "    year  state_code  county_code        species   latitude  longitude  \\\n",
       "20  2001           1            1  loblolly pine  32.578953 -86.593001   \n",
       "21  2002           1            1  loblolly pine  32.562518 -86.581838   \n",
       "22  2003           1            1  loblolly pine  32.535969 -86.734196   \n",
       "23  2004           1            1  loblolly pine  32.578173 -86.627483   \n",
       "24  2005           1            1  loblolly pine  32.551779 -86.647174   \n",
       "\n",
       "        volume       Biomass  height    diameter  number_trees  mean_temp  \\\n",
       "20  254.208304   5270.671429  2172.0  349.500000            50  67.470830   \n",
       "21  866.406357  17082.823611  3131.0  573.799996            62  68.069951   \n",
       "22  247.211446   5014.143237  1905.0  348.899998            47  64.080156   \n",
       "23  206.510939   4220.421067  1786.0  308.200000            48  67.785707   \n",
       "24  608.371252  12257.789499  3163.0  597.999998            65  66.449850   \n",
       "\n",
       "     mean_dwp  mean_prcp  mean_volume   mean_mass  log_volume  log_mass  \\\n",
       "20  54.867025   0.153781     5.084166  105.413429    1.626131  4.657890   \n",
       "21  56.273165   0.157042    13.974296  275.529413    2.637220  5.618694   \n",
       "22  55.591629   0.158144     5.259818  106.683899    1.660096  4.669870   \n",
       "23  55.894512   0.179133     4.302311   87.925439    1.459152  4.476489   \n",
       "24  54.171372   0.163352     9.359558  188.581377    2.236398  5.239530   \n",
       "\n",
       "      Density  log_density  \n",
       "20  20.733671     3.031759  \n",
       "21  19.716872     2.981475  \n",
       "22  20.282812     3.009774  \n",
       "23  20.436792     3.017337  \n",
       "24  20.148535     3.003132  "
      ]
     },
     "execution_count": 103,
     "metadata": {},
     "output_type": "execute_result"
    }
   ],
   "source": [
    "top_10_trees.head()"
   ]
  },
  {
   "cell_type": "code",
   "execution_count": 104,
   "metadata": {},
   "outputs": [],
   "source": [
    "#Splitting data between target and features\n",
    "X = top_10_trees[columns]\n",
    "y = top_10_trees.species"
   ]
  },
  {
   "cell_type": "code",
   "execution_count": 105,
   "metadata": {},
   "outputs": [],
   "source": [
    "#splitting the data between train and test \n",
    "X_train ,X_test, y_train, y_test = train_test_split(X, y, test_size = 0.1, shuffle=True, random_state=42, stratify=y)"
   ]
  },
  {
   "cell_type": "code",
   "execution_count": 106,
   "metadata": {},
   "outputs": [],
   "source": [
    "#Preprocessing data pipeline\n",
    "preprocessing = Pipeline([('scaler', StandardScaler()),\n",
    "                         ('PCA', PCA())])"
   ]
  },
  {
   "cell_type": "code",
   "execution_count": 107,
   "metadata": {},
   "outputs": [],
   "source": [
    "#preprocessing data\n",
    "X_train_scaled = preprocessing.fit_transform(X_train)"
   ]
  },
  {
   "cell_type": "code",
   "execution_count": 132,
   "metadata": {},
   "outputs": [],
   "source": [
    "y_train_ord = le.fit_transform(y_train)"
   ]
  },
  {
   "cell_type": "markdown",
   "metadata": {},
   "source": [
    "## This is were I tested various values for max depth and n estimators\n",
    " From the results it seems that the default number of estimators was sufficient and did not seem to determine the level of fitting. The depth on the other hand seemed to play a bigger role in how much the data is fitted."
   ]
  },
  {
   "cell_type": "code",
   "execution_count": 315,
   "metadata": {},
   "outputs": [],
   "source": [
    "#Testing various max depths (1-25)\n",
    "depth_scores = np.empty((25,56133))\n",
    "\n",
    "for i in range(1,26,1):\n",
    "    rfc = RandomForestClassifier(max_depth=i)\n",
    "    depth_scores[i-1] = list(cross_val_predict(rfc, X_train_scaled, y_train_ord.ravel(), cv=5))"
   ]
  },
  {
   "cell_type": "code",
   "execution_count": 316,
   "metadata": {},
   "outputs": [
    {
     "name": "stderr",
     "output_type": "stream",
     "text": [
      "/home/dan/anaconda3/lib/python3.7/site-packages/sklearn/metrics/_classification.py:1272: UndefinedMetricWarning: Precision is ill-defined and being set to 0.0 in labels with no predicted samples. Use `zero_division` parameter to control this behavior.\n",
      "  _warn_prf(average, modifier, msg_start, len(result))\n"
     ]
    }
   ],
   "source": [
    "#getting data\n",
    "precision = np.empty(25)\n",
    "recall = np.empty(25)\n",
    "accuracy = np.empty(25)\n",
    "for i in range(25):\n",
    "    precision[i] = precision_score(y_train_ord.ravel(), depth_scores[i], average = 'macro')\n",
    "    recall[i] = recall_score(y_train_ord.ravel(),depth_scores[i], average = 'macro')\n",
    "    accuracy[i] = accuracy_score(y_train_ord.ravel(),depth_scores[i])"
   ]
  },
  {
   "cell_type": "code",
   "execution_count": 318,
   "metadata": {},
   "outputs": [
    {
     "data": {
      "image/png": "[encoded data removed]",
      "text/plain": [
       "<Figure size 720x720 with 1 Axes>"
      ]
     },
     "metadata": {},
     "output_type": "display_data"
    }
   ],
   "source": [
    "#Plotting the results\n",
    "plt.figure(figsize=(10,10))\n",
    "plt.plot(np.linspace(1,25,25),precision, label = 'average precision')\n",
    "plt.plot(np.linspace(1,25,25),recall, label = 'average recall')\n",
    "plt.plot(np.linspace(1,25,25),accuracy, label = 'accuracy')\n",
    "plt.legend(fontsize=16)\n",
    "plt.xlabel('Max Depth', fontsize=16)\n",
    "plt.ylabel('score',fontsize=16)\n",
    "plt.show()"
   ]
  },
  {
   "cell_type": "code",
   "execution_count": 331,
   "metadata": {},
   "outputs": [],
   "source": [
    "#Testing various number of estimators at max_depth of 10\n",
    "depth_scores = np.empty((5,56133))\n",
    "nest = [5, 10, 50, 100,200]\n",
    "for i in range(len(nest)):\n",
    "    rfc = RandomForestClassifier(n_estimators = nest[i], max_depth=10)\n",
    "    depth_scores[i] = list(cross_val_predict(rfc, X_train_scaled, y_train_ord.ravel(), cv=5))"
   ]
  },
  {
   "cell_type": "code",
   "execution_count": 333,
   "metadata": {},
   "outputs": [],
   "source": [
    "#getting scores\n",
    "precision = np.empty(5)\n",
    "recall = np.empty(5)\n",
    "accuracy = np.empty(5)\n",
    "for i in range(5):\n",
    "    precision[i] = precision_score(y_train_ord.ravel(), depth_scores[i], average = 'macro')\n",
    "    recall[i] = recall_score(y_train_ord.ravel(),depth_scores[i], average = 'macro')\n",
    "    accuracy[i] = accuracy_score(y_train_ord.ravel(),depth_scores[i])"
   ]
  },
  {
   "cell_type": "code",
   "execution_count": 334,
   "metadata": {
    "scrolled": false
   },
   "outputs": [
    {
     "data": {
      "image/png": "[encoded data removed]",
      "text/plain": [
       "<Figure size 720x720 with 1 Axes>"
      ]
     },
     "metadata": {},
     "output_type": "display_data"
    }
   ],
   "source": [
    "#plotting data\n",
    "plt.figure(figsize=(10,10))\n",
    "plt.plot(nest,precision, label = 'average precision')\n",
    "plt.plot(nest,recall, label = 'average recall')\n",
    "plt.plot(nest,accuracy, label = 'accuracy')\n",
    "plt.legend(fontsize=16)\n",
    "plt.xlabel('n estimators', fontsize=16)\n",
    "plt.ylabel('score',fontsize=16)\n",
    "plt.show()"
   ]
  },
  {
   "cell_type": "markdown",
   "metadata": {},
   "source": [
    "## Getting overall results of precision accuracy and recall for the optimized hyperparameters"
   ]
  },
  {
   "cell_type": "code",
   "execution_count": 117,
   "metadata": {},
   "outputs": [],
   "source": [
    "#defining classifier object\n",
    "rfc = RandomForestClassifier(n_estimators=100, max_depth=10)"
   ]
  },
  {
   "cell_type": "code",
   "execution_count": 118,
   "metadata": {},
   "outputs": [
    {
     "data": {
      "text/plain": [
       "RandomForestClassifier(bootstrap=True, ccp_alpha=0.0, class_weight=None,\n",
       "                       criterion='gini', max_depth=10, max_features='auto',\n",
       "                       max_leaf_nodes=None, max_samples=None,\n",
       "                       min_impurity_decrease=0.0, min_impurity_split=None,\n",
       "                       min_samples_leaf=1, min_samples_split=2,\n",
       "                       min_weight_fraction_leaf=0.0, n_estimators=100,\n",
       "                       n_jobs=None, oob_score=False, random_state=None,\n",
       "                       verbose=0, warm_start=False)"
      ]
     },
     "execution_count": 118,
     "metadata": {},
     "output_type": "execute_result"
    }
   ],
   "source": [
    "#fitting classifier\n",
    "rfc.fit(X_train_scaled, y_train_ord.ravel())"
   ]
  },
  {
   "cell_type": "code",
   "execution_count": 133,
   "metadata": {},
   "outputs": [],
   "source": [
    "#cross-validating the data\n",
    "y_pred = cross_val_predict(rfc, X_train_scaled, y_train_ord.ravel(), cv=5)"
   ]
  },
  {
   "cell_type": "code",
   "execution_count": 136,
   "metadata": {},
   "outputs": [],
   "source": [
    "#Using a bit of code from Kents classifier notebook\n",
    "spe = ['loblolly pine','sweetgum','red maple','slash pine','yellow-poplar',\n",
    "      'balsam fir','sugar maple','quaking aspen','northern white-cedar','paper birch']"
   ]
  },
  {
   "cell_type": "code",
   "execution_count": 140,
   "metadata": {},
   "outputs": [
    {
     "data": {
      "text/html": [
       "<div>\n",
       "<style scoped>\n",
       "    .dataframe tbody tr th:only-of-type {\n",
       "        vertical-align: middle;\n",
       "    }\n",
       "\n",
       "    .dataframe tbody tr th {\n",
       "        vertical-align: top;\n",
       "    }\n",
       "\n",
       "    .dataframe thead th {\n",
       "        text-align: right;\n",
       "    }\n",
       "</style>\n",
       "<table border=\"1\" class=\"dataframe\">\n",
       "  <thead>\n",
       "    <tr style=\"text-align: right;\">\n",
       "      <th></th>\n",
       "      <th>accuracy</th>\n",
       "      <th>recall</th>\n",
       "      <th>precision</th>\n",
       "    </tr>\n",
       "  </thead>\n",
       "  <tbody>\n",
       "    <tr>\n",
       "      <th>balsam fir</th>\n",
       "      <td>0.813542</td>\n",
       "      <td>0.813542</td>\n",
       "      <td>0.804740</td>\n",
       "    </tr>\n",
       "    <tr>\n",
       "      <th>loblolly pine</th>\n",
       "      <td>0.663975</td>\n",
       "      <td>0.663975</td>\n",
       "      <td>0.733854</td>\n",
       "    </tr>\n",
       "    <tr>\n",
       "      <th>northern white-cedar</th>\n",
       "      <td>0.792357</td>\n",
       "      <td>0.792357</td>\n",
       "      <td>0.767901</td>\n",
       "    </tr>\n",
       "    <tr>\n",
       "      <th>paper birch</th>\n",
       "      <td>0.440727</td>\n",
       "      <td>0.440727</td>\n",
       "      <td>0.709959</td>\n",
       "    </tr>\n",
       "    <tr>\n",
       "      <th>quaking aspen</th>\n",
       "      <td>0.870597</td>\n",
       "      <td>0.870597</td>\n",
       "      <td>0.747689</td>\n",
       "    </tr>\n",
       "    <tr>\n",
       "      <th>red maple</th>\n",
       "      <td>0.807036</td>\n",
       "      <td>0.807036</td>\n",
       "      <td>0.602675</td>\n",
       "    </tr>\n",
       "    <tr>\n",
       "      <th>slash pine</th>\n",
       "      <td>0.611419</td>\n",
       "      <td>0.611419</td>\n",
       "      <td>0.817664</td>\n",
       "    </tr>\n",
       "    <tr>\n",
       "      <th>sugar maple</th>\n",
       "      <td>0.900242</td>\n",
       "      <td>0.900242</td>\n",
       "      <td>0.945286</td>\n",
       "    </tr>\n",
       "    <tr>\n",
       "      <th>sweetgum</th>\n",
       "      <td>0.348707</td>\n",
       "      <td>0.348707</td>\n",
       "      <td>0.644174</td>\n",
       "    </tr>\n",
       "    <tr>\n",
       "      <th>yellow-poplar</th>\n",
       "      <td>0.737339</td>\n",
       "      <td>0.737339</td>\n",
       "      <td>0.688153</td>\n",
       "    </tr>\n",
       "    <tr>\n",
       "      <th>Total</th>\n",
       "      <td>0.707829</td>\n",
       "      <td>0.698594</td>\n",
       "      <td>0.746210</td>\n",
       "    </tr>\n",
       "  </tbody>\n",
       "</table>\n",
       "</div>"
      ],
      "text/plain": [
       "                      accuracy    recall  precision\n",
       "balsam fir            0.813542  0.813542   0.804740\n",
       "loblolly pine         0.663975  0.663975   0.733854\n",
       "northern white-cedar  0.792357  0.792357   0.767901\n",
       "paper birch           0.440727  0.440727   0.709959\n",
       "quaking aspen         0.870597  0.870597   0.747689\n",
       "red maple             0.807036  0.807036   0.602675\n",
       "slash pine            0.611419  0.611419   0.817664\n",
       "sugar maple           0.900242  0.900242   0.945286\n",
       "sweetgum              0.348707  0.348707   0.644174\n",
       "yellow-poplar         0.737339  0.737339   0.688153\n",
       "Total                 0.707829  0.698594   0.746210"
      ]
     },
     "execution_count": 140,
     "metadata": {},
     "output_type": "execute_result"
    }
   ],
   "source": [
    "pred_df = pd.DataFrame({'speciesID':y_train,'pred':y_pred,'correct': y_train == y_pred})\n",
    "pred_df = pred_df.reset_index(drop = True)\n",
    "\n",
    "precision = precision_score(y_train_ord.ravel(),y_pred, average = None)\n",
    "recall = recall_score(y_train_ord.ravel(),y_pred, average = None)\n",
    "matrix = confusion_matrix(y_train_ord.ravel(), y_pred)\n",
    "accuracy = matrix.diagonal()/matrix.sum(axis=1)\n",
    "speID = le.transform(spe)\n",
    "orderedspecies = le.inverse_transform(np.sort(speID))\n",
    "final = pd.DataFrame({'accuracy':accuracy,\n",
    "                      'recall':recall,\n",
    "                      'precision':precision},\n",
    "                     index = orderedspecies)\n",
    "final.loc['Total'] = [accuracy_score(y_train_ord.ravel(),y_pred),\n",
    "                      recall_score(y_train_ord.ravel(),y_pred, average = 'macro'),\n",
    "                      precision_score(y_train_ord.ravel(),y_pred, average = 'macro')]\n",
    "final"
   ]
  },
  {
   "cell_type": "code",
   "execution_count": 141,
   "metadata": {},
   "outputs": [
    {
     "data": {
      "image/png": "[encoded data removed]",
      "text/plain": [
       "<Figure size 1152x504 with 1 Axes>"
      ]
     },
     "metadata": {},
     "output_type": "display_data"
    }
   ],
   "source": [
    "final.plot.bar(fontsize = 16,figsize = (16,7),legend = False)\n",
    "plt.ylim((0,1.15))\n",
    "plt.xlabel('',fontsize = 16)\n",
    "plt.title('Random Forest Classifier (n_est=100, max_depth=10)',fontsize = 16)\n",
    "plt.legend(loc = 1,fontsize = 14)\n",
    "plt.show()"
   ]
  },
  {
   "cell_type": "code",
   "execution_count": null,
   "metadata": {},
   "outputs": [],
   "source": []
  }
 ],
 "metadata": {
  "kernelspec": {
   "display_name": "Python 3",
   "language": "python",
   "name": "python3"
  },
  "language_info": {
   "codemirror_mode": {
    "name": "ipython",
    "version": 3
   },
   "file_extension": ".py",
   "mimetype": "text/x-python",
   "name": "python",
   "nbconvert_exporter": "python",
   "pygments_lexer": "ipython3",
   "version": "3.7.3"
  }
 },
 "nbformat": 4,
 "nbformat_minor": 4
}
