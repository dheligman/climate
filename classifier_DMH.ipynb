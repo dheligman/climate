{
 "cells": [
  {
   "cell_type": "code",
   "execution_count": 174,
   "metadata": {},
   "outputs": [],
   "source": [
    "#import libraries\n",
    "import pandas as pd\n",
    "from pandas.plotting import scatter_matrix\n",
    "from sklearn.pipeline import Pipeline\n",
    "from sklearn.model_selection import train_test_split\n",
    "import matplotlib.pyplot as plt\n",
    "import seaborn as sns\n",
    "sns.set_style('whitegrid')"
   ]
  },
  {
   "cell_type": "code",
   "execution_count": 58,
   "metadata": {},
   "outputs": [],
   "source": [
    "from sklearn.base import TransformerMixin, BaseEstimator\n",
    "from sklearn.preprocessing import StandardScaler, OneHotEncoder\n",
    "import numpy as np\n",
    "from sklearn.preprocessing import OrdinalEncoder\n",
    "from sklearn.decomposition import PCA"
   ]
  },
  {
   "cell_type": "code",
   "execution_count": 59,
   "metadata": {},
   "outputs": [],
   "source": [
    "#creating transformers \n",
    "class Scaler(BaseEstimator, TransformerMixin):\n",
    "    def __init__(self, columns):\n",
    "        self.scaler = StandardScaler()\n",
    "        self.columns = columns\n",
    "    def fit(self,X,y=None):\n",
    "        if len(X[self.columns].shape) == 1:\n",
    "            Xreshape = X[self.columns].to_numpy().reshape(-1,1)\n",
    "            self.scaler.fit(Xreshape)\n",
    "        else:\n",
    "            self.scaler.fit(X[self.columns])\n",
    "        return self\n",
    "    def transform(self,X,y=None):\n",
    "        if len(X[self.columns].shape) == 1:\n",
    "            Xreshape = X[self.columns].to_numpy().reshape(-1,1)\n",
    "            X[self.columns] = self.scaler.transform(Xreshape)\n",
    "        else:\n",
    "            X_trans = self.scaler.transform(X[self.columns])\n",
    "            for i in range(len(self.columns)):\n",
    "                X[self.columns[i]] = X_trans[:,i].to_numpy()\n",
    "        return X\n",
    "    \n",
    "class Species(BaseEstimator, TransformerMixin):\n",
    "    def __init__(self, tree):\n",
    "        self.tree = tree\n",
    "    def fit(self, X, y=None):\n",
    "        return self\n",
    "    def transform(self, X, y=None):\n",
    "        X = X.loc[X.species == self.tree]\n",
    "        X = X.drop('species', axis=1)\n",
    "        return X\n",
    "    \n",
    "class enc(BaseEstimator, TransformerMixin):\n",
    "    def __init__(self):\n",
    "        self.enc = OneHotEncoder()\n",
    "    def fit(self, X, y=None):\n",
    "        self.enc.fit(X[['species','phys_class_code','grow_class_code']].to_numpy())\n",
    "        return self\n",
    "    def transform(self, X, y=None):\n",
    "        encoded = self.enc.transform(X[['phys_class_code','grow_class_code']].to_numpy()).toarray()\n",
    "        X = X.drop(['phys_class_code','grow_class_code'],axis=1).to_numpy()\n",
    "        X = np.concatenate((X, encoded), axis=1)\n",
    "        return X\n",
    "    \n",
    "class species_enc(BaseEstimator, TransformerMixin):\n",
    "    def __init__(self):\n",
    "        self.enc = OneHotEncoder()\n",
    "    def fit(self, X, y=None):\n",
    "        self.enc.fit(X['species'].to_numpy().reshape(-1,1))\n",
    "        return self\n",
    "    def transform(self, X, y=None):\n",
    "        encoded = self.enc.transform(X['species'].to_numpy().reshape(-1,1)).toarray()\n",
    "        X = X.drop('species',axis=1).to_numpy()\n",
    "        X = np.concatenate((X, encoded), axis=1)\n",
    "        return X"
   ]
  },
  {
   "cell_type": "code",
   "execution_count": 60,
   "metadata": {},
   "outputs": [],
   "source": [
    "#Loading the data complete with strata\n",
    "county_tree_cat = pd.read_csv('county_tree_climate_cats_DMH.csv')\n",
    "county_tree_cat = county_tree_cat.loc[county_tree_cat.volume !=0]"
   ]
  },
  {
   "cell_type": "code",
   "execution_count": 61,
   "metadata": {},
   "outputs": [],
   "source": [
    "#Normalizing the volume and biomass to number of trees\n",
    "county_tree_cat = county_tree_cat.assign(mean_volume = lambda x: x.volume/x.number_trees)\n",
    "county_tree_cat = county_tree_cat.assign(mean_biomass = lambda x: x.Biomass/x.number_trees)\n",
    "county_tree_cat = county_tree_cat.assign(mean_density = lambda x: x.mean_biomass/x.mean_volume)\n",
    "county_tree_cat = county_tree_cat.assign(log_volume = lambda x: np.log(x.mean_volume))\n",
    "county_tree_cat = county_tree_cat.assign(log_mass = lambda x: np.log(x.mean_biomass))"
   ]
  },
  {
   "cell_type": "code",
   "execution_count": 62,
   "metadata": {},
   "outputs": [],
   "source": [
    "columns = ['latitude','longitude','mean_temp','mean_dwp','mean_prcp','mean_density','log_volume','log_mass','mean_volume','mean_biomass']"
   ]
  },
  {
   "cell_type": "code",
   "execution_count": 63,
   "metadata": {},
   "outputs": [],
   "source": [
    "X = county_tree_cat[columns]\n",
    "y = county_tree_cat['species']"
   ]
  },
  {
   "cell_type": "code",
   "execution_count": 64,
   "metadata": {},
   "outputs": [],
   "source": [
    "X_train, X_test, y_train, y_test = train_test_split(X, y, test_size=0.3, shuffle=True, random_state=42, stratify=y)"
   ]
  },
  {
   "cell_type": "code",
   "execution_count": 65,
   "metadata": {},
   "outputs": [],
   "source": [
    "oe = OrdinalEncoder()"
   ]
  },
  {
   "cell_type": "code",
   "execution_count": 66,
   "metadata": {},
   "outputs": [],
   "source": [
    "y_train = oe.fit_transform(y_train.to_numpy().reshape(-1,1))"
   ]
  },
  {
   "cell_type": "code",
   "execution_count": 67,
   "metadata": {},
   "outputs": [],
   "source": [
    "#creating a pipeline for the transformers\n",
    "preprocessing = Pipeline([('scaler', StandardScaler())])"
   ]
  },
  {
   "cell_type": "code",
   "execution_count": 68,
   "metadata": {},
   "outputs": [],
   "source": [
    "X_train_prp = preprocessing.fit_transform(X_train)"
   ]
  },
  {
   "cell_type": "code",
   "execution_count": 75,
   "metadata": {},
   "outputs": [],
   "source": [
    "from sklearn.ensemble import RandomForestClassifier\n",
    "from sklearn.model_selection import cross_val_score, cross_val_predict\n",
    "from sklearn.metrics import precision_score, recall_score, accuracy_score"
   ]
  },
  {
   "cell_type": "code",
   "execution_count": 154,
   "metadata": {},
   "outputs": [],
   "source": [
    "#Testing various max depths (2-20)\n",
    "depth_scores = np.empty((25,30601))\n",
    "\n",
    "for i in range(1,26,1):\n",
    "    rfc = RandomForestClassifier(max_depth=i)\n",
    "    depth_scores[i-1] = list(cross_val_predict(rfc, X_train_prp, y_train.ravel(), cv=5))"
   ]
  },
  {
   "cell_type": "code",
   "execution_count": 167,
   "metadata": {},
   "outputs": [
    {
     "data": {
      "text/plain": [
       "30601"
      ]
     },
     "execution_count": 167,
     "metadata": {},
     "output_type": "execute_result"
    }
   ],
   "source": [
    "depth_scores[7].size"
   ]
  },
  {
   "cell_type": "code",
   "execution_count": 155,
   "metadata": {},
   "outputs": [
    {
     "name": "stderr",
     "output_type": "stream",
     "text": [
      "/home/dan/anaconda3/lib/python3.7/site-packages/sklearn/metrics/_classification.py:1272: UndefinedMetricWarning: Precision is ill-defined and being set to 0.0 in labels with no predicted samples. Use `zero_division` parameter to control this behavior.\n",
      "  _warn_prf(average, modifier, msg_start, len(result))\n"
     ]
    }
   ],
   "source": [
    "precision = np.empty(25)\n",
    "recall = np.empty(25)\n",
    "accuracy = np.empty(25)\n",
    "for i in range(25):\n",
    "    precision[i] = precision_score(y_train.ravel(), depth_scores[i], average = 'macro')\n",
    "    recall[i] = recall_score(y_train.ravel(),depth_scores[i], average = 'macro')\n",
    "    accuracy[i] = accuracy_score(y_train.ravel(),depth_scores[i])"
   ]
  },
  {
   "cell_type": "code",
   "execution_count": 177,
   "metadata": {
    "scrolled": false
   },
   "outputs": [
    {
     "data": {
      "image/png": "[encoded data removed]",
      "text/plain": [
       "<Figure size 720x720 with 1 Axes>"
      ]
     },
     "metadata": {},
     "output_type": "display_data"
    }
   ],
   "source": [
    "plt.figure(figsize=(10,10))\n",
    "plt.plot(np.linspace(1,25,25),precision, label = 'average precision')\n",
    "plt.plot(np.linspace(1,25,25),recall, label = 'average recall')\n",
    "plt.plot(np.linspace(1,25,25),accuracy, label = 'accuracy')\n",
    "plt.xlim(4,25)\n",
    "plt.ylim(0.55,0.75)\n",
    "plt.legend(fontsize=16)\n",
    "plt.xlabel('Max Depth', fontsize=16)\n",
    "plt.ylabel('score',fontsize=16)\n",
    "plt.show()"
   ]
  },
  {
   "cell_type": "code",
   "execution_count": 99,
   "metadata": {},
   "outputs": [
    {
     "data": {
      "text/plain": [
       "array([ 5., 10., 15., 20., 25.])"
      ]
     },
     "execution_count": 99,
     "metadata": {},
     "output_type": "execute_result"
    }
   ],
   "source": [
    "np.linspace(5,25,5)"
   ]
  },
  {
   "cell_type": "code",
   "execution_count": 103,
   "metadata": {},
   "outputs": [
    {
     "data": {
      "text/plain": [
       "array([0.63870462, 0.69435639, 0.70366981, 0.70059802, 0.69974837])"
      ]
     },
     "execution_count": 103,
     "metadata": {},
     "output_type": "execute_result"
    }
   ],
   "source": [
    "recall"
   ]
  },
  {
   "cell_type": "code",
   "execution_count": 104,
   "metadata": {},
   "outputs": [
    {
     "data": {
      "text/plain": [
       "array([0.63870462, 0.69435639, 0.70366981, 0.70059802, 0.69974837])"
      ]
     },
     "execution_count": 104,
     "metadata": {},
     "output_type": "execute_result"
    }
   ],
   "source": [
    "precision"
   ]
  },
  {
   "cell_type": "code",
   "execution_count": 112,
   "metadata": {},
   "outputs": [
    {
     "data": {
      "text/plain": [
       "0.7143569195754311"
      ]
     },
     "execution_count": 112,
     "metadata": {},
     "output_type": "execute_result"
    }
   ],
   "source": [
    "precision_score(y_train.ravel(),depth_scores[1], average = 'macro')"
   ]
  },
  {
   "cell_type": "code",
   "execution_count": 111,
   "metadata": {},
   "outputs": [
    {
     "data": {
      "text/plain": [
       "0.694356393581909"
      ]
     },
     "execution_count": 111,
     "metadata": {},
     "output_type": "execute_result"
    }
   ],
   "source": [
    "accuracy_score(y_train.ravel(),depth_scores[1])"
   ]
  },
  {
   "cell_type": "code",
   "execution_count": 137,
   "metadata": {},
   "outputs": [
    {
     "data": {
      "text/plain": [
       "array([ 1.,  2.,  3.,  4.,  5.,  6.,  7.,  8.,  9., 10., 11., 12., 13.,\n",
       "       14., 15., 16., 17., 18., 19., 20., 21., 22., 23., 24., 25.])"
      ]
     },
     "execution_count": 137,
     "metadata": {},
     "output_type": "execute_result"
    }
   ],
   "source": [
    "np.linspace(1,25,25)"
   ]
  },
  {
   "cell_type": "code",
   "execution_count": 178,
   "metadata": {},
   "outputs": [],
   "source": [
    "more_trees = pd.read_csv('county_tree_temp_dwp_prcp_KT_NS10.csv')"
   ]
  },
  {
   "cell_type": "code",
   "execution_count": 184,
   "metadata": {},
   "outputs": [
    {
     "data": {
      "text/html": [
       "<div>\n",
       "<style scoped>\n",
       "    .dataframe tbody tr th:only-of-type {\n",
       "        vertical-align: middle;\n",
       "    }\n",
       "\n",
       "    .dataframe tbody tr th {\n",
       "        vertical-align: top;\n",
       "    }\n",
       "\n",
       "    .dataframe thead th {\n",
       "        text-align: right;\n",
       "    }\n",
       "</style>\n",
       "<table border=\"1\" class=\"dataframe\">\n",
       "  <thead>\n",
       "    <tr style=\"text-align: right;\">\n",
       "      <th></th>\n",
       "      <th>year</th>\n",
       "      <th>state_code</th>\n",
       "      <th>county_code</th>\n",
       "      <th>species</th>\n",
       "      <th>latitude</th>\n",
       "      <th>longitude</th>\n",
       "      <th>volume</th>\n",
       "      <th>Biomass</th>\n",
       "      <th>height</th>\n",
       "      <th>diameter</th>\n",
       "      <th>number_trees</th>\n",
       "      <th>mean_temp</th>\n",
       "      <th>mean_dwp</th>\n",
       "      <th>mean_prcp</th>\n",
       "    </tr>\n",
       "  </thead>\n",
       "  <tbody>\n",
       "    <tr>\n",
       "      <th>0</th>\n",
       "      <td>2001</td>\n",
       "      <td>1</td>\n",
       "      <td>1</td>\n",
       "      <td>American beech</td>\n",
       "      <td>32.638680</td>\n",
       "      <td>-86.697701</td>\n",
       "      <td>0.000000</td>\n",
       "      <td>3.537096</td>\n",
       "      <td>23.0</td>\n",
       "      <td>1.800000</td>\n",
       "      <td>1</td>\n",
       "      <td>68.050000</td>\n",
       "      <td>54.900915</td>\n",
       "      <td>0.158415</td>\n",
       "    </tr>\n",
       "    <tr>\n",
       "      <th>1</th>\n",
       "      <td>2001</td>\n",
       "      <td>1</td>\n",
       "      <td>1</td>\n",
       "      <td>blackgum</td>\n",
       "      <td>32.560926</td>\n",
       "      <td>-86.626963</td>\n",
       "      <td>125.490306</td>\n",
       "      <td>2821.954068</td>\n",
       "      <td>837.0</td>\n",
       "      <td>119.200000</td>\n",
       "      <td>15</td>\n",
       "      <td>66.698603</td>\n",
       "      <td>54.821839</td>\n",
       "      <td>0.147602</td>\n",
       "    </tr>\n",
       "    <tr>\n",
       "      <th>2</th>\n",
       "      <td>2001</td>\n",
       "      <td>1</td>\n",
       "      <td>1</td>\n",
       "      <td>loblolly pine</td>\n",
       "      <td>32.578953</td>\n",
       "      <td>-86.593001</td>\n",
       "      <td>254.208304</td>\n",
       "      <td>5270.671429</td>\n",
       "      <td>2172.0</td>\n",
       "      <td>349.500000</td>\n",
       "      <td>50</td>\n",
       "      <td>67.470830</td>\n",
       "      <td>54.867025</td>\n",
       "      <td>0.153781</td>\n",
       "    </tr>\n",
       "    <tr>\n",
       "      <th>3</th>\n",
       "      <td>2001</td>\n",
       "      <td>1</td>\n",
       "      <td>1</td>\n",
       "      <td>post oak</td>\n",
       "      <td>32.598692</td>\n",
       "      <td>-86.554459</td>\n",
       "      <td>10.486461</td>\n",
       "      <td>354.845979</td>\n",
       "      <td>187.0</td>\n",
       "      <td>31.100000</td>\n",
       "      <td>6</td>\n",
       "      <td>68.050000</td>\n",
       "      <td>54.900915</td>\n",
       "      <td>0.158415</td>\n",
       "    </tr>\n",
       "    <tr>\n",
       "      <th>4</th>\n",
       "      <td>2001</td>\n",
       "      <td>1</td>\n",
       "      <td>1</td>\n",
       "      <td>red maple</td>\n",
       "      <td>32.620470</td>\n",
       "      <td>-86.587013</td>\n",
       "      <td>7.226856</td>\n",
       "      <td>182.733664</td>\n",
       "      <td>117.0</td>\n",
       "      <td>14.800000</td>\n",
       "      <td>3</td>\n",
       "      <td>68.050000</td>\n",
       "      <td>54.900915</td>\n",
       "      <td>0.158415</td>\n",
       "    </tr>\n",
       "    <tr>\n",
       "      <th>...</th>\n",
       "      <td>...</td>\n",
       "      <td>...</td>\n",
       "      <td>...</td>\n",
       "      <td>...</td>\n",
       "      <td>...</td>\n",
       "      <td>...</td>\n",
       "      <td>...</td>\n",
       "      <td>...</td>\n",
       "      <td>...</td>\n",
       "      <td>...</td>\n",
       "      <td>...</td>\n",
       "      <td>...</td>\n",
       "      <td>...</td>\n",
       "      <td>...</td>\n",
       "    </tr>\n",
       "    <tr>\n",
       "      <th>172299</th>\n",
       "      <td>2019</td>\n",
       "      <td>54</td>\n",
       "      <td>95</td>\n",
       "      <td>sugar maple</td>\n",
       "      <td>39.505507</td>\n",
       "      <td>-80.876457</td>\n",
       "      <td>142.762208</td>\n",
       "      <td>3784.470774</td>\n",
       "      <td>776.0</td>\n",
       "      <td>106.900000</td>\n",
       "      <td>15</td>\n",
       "      <td>55.702556</td>\n",
       "      <td>44.365214</td>\n",
       "      <td>0.132877</td>\n",
       "    </tr>\n",
       "    <tr>\n",
       "      <th>172300</th>\n",
       "      <td>2019</td>\n",
       "      <td>54</td>\n",
       "      <td>99</td>\n",
       "      <td>blackgum</td>\n",
       "      <td>37.903805</td>\n",
       "      <td>-82.359970</td>\n",
       "      <td>0.000000</td>\n",
       "      <td>3.305938</td>\n",
       "      <td>32.0</td>\n",
       "      <td>2.800000</td>\n",
       "      <td>2</td>\n",
       "      <td>59.952880</td>\n",
       "      <td>47.096859</td>\n",
       "      <td>0.000000</td>\n",
       "    </tr>\n",
       "    <tr>\n",
       "      <th>172301</th>\n",
       "      <td>2019</td>\n",
       "      <td>54</td>\n",
       "      <td>99</td>\n",
       "      <td>northern red</td>\n",
       "      <td>37.903805</td>\n",
       "      <td>-82.359970</td>\n",
       "      <td>24.948807</td>\n",
       "      <td>707.147827</td>\n",
       "      <td>66.0</td>\n",
       "      <td>12.900000</td>\n",
       "      <td>1</td>\n",
       "      <td>59.952880</td>\n",
       "      <td>47.096859</td>\n",
       "      <td>0.000000</td>\n",
       "    </tr>\n",
       "    <tr>\n",
       "      <th>172302</th>\n",
       "      <td>2019</td>\n",
       "      <td>54</td>\n",
       "      <td>99</td>\n",
       "      <td>white oak</td>\n",
       "      <td>37.903805</td>\n",
       "      <td>-82.359970</td>\n",
       "      <td>175.000834</td>\n",
       "      <td>4927.578049</td>\n",
       "      <td>753.0</td>\n",
       "      <td>113.400001</td>\n",
       "      <td>10</td>\n",
       "      <td>59.952880</td>\n",
       "      <td>47.096859</td>\n",
       "      <td>0.000000</td>\n",
       "    </tr>\n",
       "    <tr>\n",
       "      <th>172303</th>\n",
       "      <td>2019</td>\n",
       "      <td>54</td>\n",
       "      <td>103</td>\n",
       "      <td>red maple</td>\n",
       "      <td>39.636395</td>\n",
       "      <td>-80.537872</td>\n",
       "      <td>118.109232</td>\n",
       "      <td>2305.015717</td>\n",
       "      <td>381.0</td>\n",
       "      <td>61.200001</td>\n",
       "      <td>5</td>\n",
       "      <td>56.558356</td>\n",
       "      <td>44.091233</td>\n",
       "      <td>0.118630</td>\n",
       "    </tr>\n",
       "  </tbody>\n",
       "</table>\n",
       "<p>172304 rows × 14 columns</p>\n",
       "</div>"
      ],
      "text/plain": [
       "        year  state_code  county_code         species   latitude  longitude  \\\n",
       "0       2001           1            1  American beech  32.638680 -86.697701   \n",
       "1       2001           1            1        blackgum  32.560926 -86.626963   \n",
       "2       2001           1            1   loblolly pine  32.578953 -86.593001   \n",
       "3       2001           1            1        post oak  32.598692 -86.554459   \n",
       "4       2001           1            1       red maple  32.620470 -86.587013   \n",
       "...      ...         ...          ...             ...        ...        ...   \n",
       "172299  2019          54           95     sugar maple  39.505507 -80.876457   \n",
       "172300  2019          54           99        blackgum  37.903805 -82.359970   \n",
       "172301  2019          54           99    northern red  37.903805 -82.359970   \n",
       "172302  2019          54           99       white oak  37.903805 -82.359970   \n",
       "172303  2019          54          103       red maple  39.636395 -80.537872   \n",
       "\n",
       "            volume      Biomass  height    diameter  number_trees  mean_temp  \\\n",
       "0         0.000000     3.537096    23.0    1.800000             1  68.050000   \n",
       "1       125.490306  2821.954068   837.0  119.200000            15  66.698603   \n",
       "2       254.208304  5270.671429  2172.0  349.500000            50  67.470830   \n",
       "3        10.486461   354.845979   187.0   31.100000             6  68.050000   \n",
       "4         7.226856   182.733664   117.0   14.800000             3  68.050000   \n",
       "...            ...          ...     ...         ...           ...        ...   \n",
       "172299  142.762208  3784.470774   776.0  106.900000            15  55.702556   \n",
       "172300    0.000000     3.305938    32.0    2.800000             2  59.952880   \n",
       "172301   24.948807   707.147827    66.0   12.900000             1  59.952880   \n",
       "172302  175.000834  4927.578049   753.0  113.400001            10  59.952880   \n",
       "172303  118.109232  2305.015717   381.0   61.200001             5  56.558356   \n",
       "\n",
       "         mean_dwp  mean_prcp  \n",
       "0       54.900915   0.158415  \n",
       "1       54.821839   0.147602  \n",
       "2       54.867025   0.153781  \n",
       "3       54.900915   0.158415  \n",
       "4       54.900915   0.158415  \n",
       "...           ...        ...  \n",
       "172299  44.365214   0.132877  \n",
       "172300  47.096859   0.000000  \n",
       "172301  47.096859   0.000000  \n",
       "172302  47.096859   0.000000  \n",
       "172303  44.091233   0.118630  \n",
       "\n",
       "[172304 rows x 14 columns]"
      ]
     },
     "execution_count": 184,
     "metadata": {},
     "output_type": "execute_result"
    }
   ],
   "source": [
    "more_trees"
   ]
  },
  {
   "cell_type": "code",
   "execution_count": 180,
   "metadata": {},
   "outputs": [],
   "source": [
    "top10 = ['loblolly pine','sweetgum','red maple','slash pine','yellow-poplar',\n",
    "      'balsam fir','sugar maple','quaking aspen','northern white-cedar','paper birch']"
   ]
  },
  {
   "cell_type": "code",
   "execution_count": 185,
   "metadata": {},
   "outputs": [],
   "source": [
    "top_10_trees = more_trees.loc[more_trees.species.isin(top10)]"
   ]
  },
  {
   "cell_type": "code",
   "execution_count": 190,
   "metadata": {},
   "outputs": [],
   "source": [
    "top_10_trees = top_10_trees.assign(mean_volume = lambda x: x.volume/x.number_trees)\n",
    "top_10_trees = top_10_trees.assign(mean_mass = lambda x: x.Biomass/x.number_trees)\n",
    "top_10_trees = top_10_trees.loc[top_10_trees.mean_volume !=0]\n",
    "top_10_trees = top_10_trees.assign(log_volume = lambda x: np.log(x.mean_volume))\n",
    "top_10_trees = top_10_trees.loc[top_10_trees.mean_mass != 0]\n",
    "top_10_trees = top_10_trees.assign(log_mass = lambda x: np.log(x.mean_mass))"
   ]
  },
  {
   "cell_type": "code",
   "execution_count": 193,
   "metadata": {},
   "outputs": [
    {
     "data": {
      "text/html": [
       "<div>\n",
       "<style scoped>\n",
       "    .dataframe tbody tr th:only-of-type {\n",
       "        vertical-align: middle;\n",
       "    }\n",
       "\n",
       "    .dataframe tbody tr th {\n",
       "        vertical-align: top;\n",
       "    }\n",
       "\n",
       "    .dataframe thead th {\n",
       "        text-align: right;\n",
       "    }\n",
       "</style>\n",
       "<table border=\"1\" class=\"dataframe\">\n",
       "  <thead>\n",
       "    <tr style=\"text-align: right;\">\n",
       "      <th></th>\n",
       "      <th>year</th>\n",
       "      <th>state_code</th>\n",
       "      <th>county_code</th>\n",
       "      <th>species</th>\n",
       "      <th>latitude</th>\n",
       "      <th>longitude</th>\n",
       "      <th>volume</th>\n",
       "      <th>Biomass</th>\n",
       "      <th>height</th>\n",
       "      <th>diameter</th>\n",
       "      <th>number_trees</th>\n",
       "      <th>mean_temp</th>\n",
       "      <th>mean_dwp</th>\n",
       "      <th>mean_prcp</th>\n",
       "      <th>mean_volume</th>\n",
       "      <th>mean_mass</th>\n",
       "      <th>log_volume</th>\n",
       "      <th>log_mass</th>\n",
       "    </tr>\n",
       "  </thead>\n",
       "  <tbody>\n",
       "    <tr>\n",
       "      <th>2</th>\n",
       "      <td>2001</td>\n",
       "      <td>1</td>\n",
       "      <td>1</td>\n",
       "      <td>loblolly pine</td>\n",
       "      <td>32.578953</td>\n",
       "      <td>-86.593001</td>\n",
       "      <td>254.208304</td>\n",
       "      <td>5270.671429</td>\n",
       "      <td>2172.0</td>\n",
       "      <td>349.500000</td>\n",
       "      <td>50</td>\n",
       "      <td>67.470830</td>\n",
       "      <td>54.867025</td>\n",
       "      <td>0.153781</td>\n",
       "      <td>5.084166</td>\n",
       "      <td>105.413429</td>\n",
       "      <td>1.626131</td>\n",
       "      <td>4.657890</td>\n",
       "    </tr>\n",
       "    <tr>\n",
       "      <th>4</th>\n",
       "      <td>2001</td>\n",
       "      <td>1</td>\n",
       "      <td>1</td>\n",
       "      <td>red maple</td>\n",
       "      <td>32.620470</td>\n",
       "      <td>-86.587013</td>\n",
       "      <td>7.226856</td>\n",
       "      <td>182.733664</td>\n",
       "      <td>117.0</td>\n",
       "      <td>14.800000</td>\n",
       "      <td>3</td>\n",
       "      <td>68.050000</td>\n",
       "      <td>54.900915</td>\n",
       "      <td>0.158415</td>\n",
       "      <td>2.408952</td>\n",
       "      <td>60.911221</td>\n",
       "      <td>0.879192</td>\n",
       "      <td>4.109417</td>\n",
       "    </tr>\n",
       "    <tr>\n",
       "      <th>7</th>\n",
       "      <td>2001</td>\n",
       "      <td>1</td>\n",
       "      <td>1</td>\n",
       "      <td>sweetgum</td>\n",
       "      <td>32.569998</td>\n",
       "      <td>-86.627121</td>\n",
       "      <td>161.481322</td>\n",
       "      <td>3499.375783</td>\n",
       "      <td>889.0</td>\n",
       "      <td>114.200001</td>\n",
       "      <td>17</td>\n",
       "      <td>66.428324</td>\n",
       "      <td>54.806024</td>\n",
       "      <td>0.145440</td>\n",
       "      <td>9.498901</td>\n",
       "      <td>205.845634</td>\n",
       "      <td>2.251176</td>\n",
       "      <td>5.327127</td>\n",
       "    </tr>\n",
       "    <tr>\n",
       "      <th>9</th>\n",
       "      <td>2001</td>\n",
       "      <td>1</td>\n",
       "      <td>1</td>\n",
       "      <td>yellow-poplar</td>\n",
       "      <td>32.638274</td>\n",
       "      <td>-86.539808</td>\n",
       "      <td>35.165761</td>\n",
       "      <td>806.265958</td>\n",
       "      <td>431.0</td>\n",
       "      <td>49.900000</td>\n",
       "      <td>8</td>\n",
       "      <td>68.050000</td>\n",
       "      <td>54.900915</td>\n",
       "      <td>0.158415</td>\n",
       "      <td>4.395720</td>\n",
       "      <td>100.783245</td>\n",
       "      <td>1.480631</td>\n",
       "      <td>4.612972</td>\n",
       "    </tr>\n",
       "    <tr>\n",
       "      <th>11</th>\n",
       "      <td>2001</td>\n",
       "      <td>1</td>\n",
       "      <td>3</td>\n",
       "      <td>loblolly pine</td>\n",
       "      <td>30.769620</td>\n",
       "      <td>-87.704268</td>\n",
       "      <td>1220.695604</td>\n",
       "      <td>24074.035658</td>\n",
       "      <td>5463.0</td>\n",
       "      <td>910.399999</td>\n",
       "      <td>112</td>\n",
       "      <td>66.790045</td>\n",
       "      <td>58.346707</td>\n",
       "      <td>0.113654</td>\n",
       "      <td>10.899068</td>\n",
       "      <td>214.946747</td>\n",
       "      <td>2.388677</td>\n",
       "      <td>5.370390</td>\n",
       "    </tr>\n",
       "  </tbody>\n",
       "</table>\n",
       "</div>"
      ],
      "text/plain": [
       "    year  state_code  county_code        species   latitude  longitude  \\\n",
       "2   2001           1            1  loblolly pine  32.578953 -86.593001   \n",
       "4   2001           1            1      red maple  32.620470 -86.587013   \n",
       "7   2001           1            1       sweetgum  32.569998 -86.627121   \n",
       "9   2001           1            1  yellow-poplar  32.638274 -86.539808   \n",
       "11  2001           1            3  loblolly pine  30.769620 -87.704268   \n",
       "\n",
       "         volume       Biomass  height    diameter  number_trees  mean_temp  \\\n",
       "2    254.208304   5270.671429  2172.0  349.500000            50  67.470830   \n",
       "4      7.226856    182.733664   117.0   14.800000             3  68.050000   \n",
       "7    161.481322   3499.375783   889.0  114.200001            17  66.428324   \n",
       "9     35.165761    806.265958   431.0   49.900000             8  68.050000   \n",
       "11  1220.695604  24074.035658  5463.0  910.399999           112  66.790045   \n",
       "\n",
       "     mean_dwp  mean_prcp  mean_volume   mean_mass  log_volume  log_mass  \n",
       "2   54.867025   0.153781     5.084166  105.413429    1.626131  4.657890  \n",
       "4   54.900915   0.158415     2.408952   60.911221    0.879192  4.109417  \n",
       "7   54.806024   0.145440     9.498901  205.845634    2.251176  5.327127  \n",
       "9   54.900915   0.158415     4.395720  100.783245    1.480631  4.612972  \n",
       "11  58.346707   0.113654    10.899068  214.946747    2.388677  5.370390  "
      ]
     },
     "execution_count": 193,
     "metadata": {},
     "output_type": "execute_result"
    }
   ],
   "source": [
    "top_10_trees.head()"
   ]
  },
  {
   "cell_type": "code",
   "execution_count": 224,
   "metadata": {},
   "outputs": [],
   "source": [
    "X = top_10_trees.drop('species',axis=1)\n",
    "y = top_10_trees.species"
   ]
  },
  {
   "cell_type": "code",
   "execution_count": 198,
   "metadata": {},
   "outputs": [],
   "source": [
    "X_train ,X_test, y_train, y_test = train_test_split(X, y, test_size = 0.3, shuffle=True, random_state=42, stratify=y)"
   ]
  },
  {
   "cell_type": "code",
   "execution_count": 202,
   "metadata": {},
   "outputs": [],
   "source": [
    "scaler = StandardScaler()"
   ]
  },
  {
   "cell_type": "code",
   "execution_count": 226,
   "metadata": {},
   "outputs": [],
   "source": [
    "X_train_scaled = scaler.fit_transform(X_train)"
   ]
  },
  {
   "cell_type": "code",
   "execution_count": 227,
   "metadata": {},
   "outputs": [],
   "source": [
    "y_train_ord = oe.fit_transform(y_train.to_numpy().reshape(-1,1))"
   ]
  },
  {
   "cell_type": "code",
   "execution_count": 210,
   "metadata": {},
   "outputs": [],
   "source": [
    "#Testing various max depths (2-20)\n",
    "depth_scores = np.empty((25,56133))\n",
    "\n",
    "for i in range(1,26,1):\n",
    "    rfc = RandomForestClassifier(max_depth=i)\n",
    "    depth_scores[i-1] = list(cross_val_predict(rfc, X_train_scaled, y_train_ord.ravel(), cv=5))"
   ]
  },
  {
   "cell_type": "code",
   "execution_count": 212,
   "metadata": {},
   "outputs": [
    {
     "name": "stderr",
     "output_type": "stream",
     "text": [
      "/home/dan/anaconda3/lib/python3.7/site-packages/sklearn/metrics/_classification.py:1272: UndefinedMetricWarning: Precision is ill-defined and being set to 0.0 in labels with no predicted samples. Use `zero_division` parameter to control this behavior.\n",
      "  _warn_prf(average, modifier, msg_start, len(result))\n"
     ]
    }
   ],
   "source": [
    "precision = np.empty(25)\n",
    "recall = np.empty(25)\n",
    "accuracy = np.empty(25)\n",
    "for i in range(25):\n",
    "    precision[i] = precision_score(y_train_ord.ravel(), depth_scores[i], average = 'macro')\n",
    "    recall[i] = recall_score(y_train_ord.ravel(),depth_scores[i], average = 'macro')\n",
    "    accuracy[i] = accuracy_score(y_train_ord.ravel(),depth_scores[i])"
   ]
  },
  {
   "cell_type": "code",
   "execution_count": 213,
   "metadata": {},
   "outputs": [
    {
     "data": {
      "image/png": "[encoded data removed]",
      "text/plain": [
       "<Figure size 720x720 with 1 Axes>"
      ]
     },
     "metadata": {},
     "output_type": "display_data"
    }
   ],
   "source": [
    "plt.figure(figsize=(10,10))\n",
    "plt.plot(np.linspace(1,25,25),precision, label = 'average precision')\n",
    "plt.plot(np.linspace(1,25,25),recall, label = 'average recall')\n",
    "plt.plot(np.linspace(1,25,25),accuracy, label = 'accuracy')\n",
    "plt.xlim(4,25)\n",
    "plt.ylim(0.55,0.75)\n",
    "plt.legend(fontsize=16)\n",
    "plt.xlabel('Max Depth', fontsize=16)\n",
    "plt.ylabel('score',fontsize=16)\n",
    "plt.show()"
   ]
  },
  {
   "cell_type": "code",
   "execution_count": 215,
   "metadata": {},
   "outputs": [],
   "source": [
    "rfc = RandomForestClassifier(max_depth=25)"
   ]
  },
  {
   "cell_type": "code",
   "execution_count": 231,
   "metadata": {},
   "outputs": [],
   "source": [
    "y_pred = rfc.predict(X_train_scaled)\n",
    "y_pred_ord = oe.transform(y_pred.reshape(-1,1))"
   ]
  },
  {
   "cell_type": "code",
   "execution_count": 234,
   "metadata": {},
   "outputs": [
    {
     "data": {
      "text/plain": [
       "0.9999881051504698"
      ]
     },
     "execution_count": 234,
     "metadata": {},
     "output_type": "execute_result"
    }
   ],
   "source": [
    "recall_score(y_train_ord, y_pred_ord, average='macro')"
   ]
  },
  {
   "cell_type": "code",
   "execution_count": 225,
   "metadata": {},
   "outputs": [
    {
     "data": {
      "text/plain": [
       "[(0.1012201354621705, 'latitude'),\n",
       " (0.08954541452635516, 'mean_volume'),\n",
       " (0.08923384531334871, 'log_mass'),\n",
       " (0.08816440233034707, 'log_volume'),\n",
       " (0.08814094126765196, 'mean_mass'),\n",
       " (0.07017019647688803, 'mean_temp'),\n",
       " (0.06837011702302351, 'longitude'),\n",
       " (0.05811827660711173, 'mean_dwp'),\n",
       " (0.05761963736176503, 'diameter'),\n",
       " (0.049735428733736105, 'Biomass'),\n",
       " (0.04904213266475278, 'height'),\n",
       " (0.04841917552416823, 'volume'),\n",
       " (0.03365253099599428, 'county_code'),\n",
       " (0.031229945829656013, 'number_trees'),\n",
       " (0.028180188349352975, 'mean_prcp'),\n",
       " (0.025316348549079482, 'year'),\n",
       " (0.023841282984598262, 'state_code')]"
      ]
     },
     "execution_count": 225,
     "metadata": {},
     "output_type": "execute_result"
    }
   ],
   "source": [
    "sorted(zip(rfc.feature_importances_,list(X.columns)), reverse=True)"
   ]
  },
  {
   "cell_type": "code",
   "execution_count": 235,
   "metadata": {},
   "outputs": [],
   "source": [
    "#Testing various max depths (2-20)\n",
    "depth_scores = np.empty((4,56133))\n",
    "nest = [5, 10, 50, 100,200]\n",
    "for i in range(len(nest)):\n",
    "    rfc = RandomForestClassifier(n_estimators = nest[i], max_depth=8)\n",
    "    depth_scores[i] = list(cross_val_predict(rfc, X_train_scaled, y_train_ord.ravel(), cv=5))"
   ]
  },
  {
   "cell_type": "code",
   "execution_count": 236,
   "metadata": {},
   "outputs": [
    {
     "data": {
      "text/plain": [
       "array([[8., 5., 8., ..., 8., 7., 5.],\n",
       "       [1., 5., 9., ..., 8., 7., 5.],\n",
       "       [1., 7., 9., ..., 8., 7., 5.],\n",
       "       ...,\n",
       "       [0., 0., 0., ..., 0., 0., 0.],\n",
       "       [1., 0., 0., ..., 1., 0., 0.],\n",
       "       [0., 0., 0., ..., 0., 0., 0.]])"
      ]
     },
     "execution_count": 236,
     "metadata": {},
     "output_type": "execute_result"
    }
   ],
   "source": [
    "depth_scores"
   ]
  },
  {
   "cell_type": "code",
   "execution_count": 239,
   "metadata": {},
   "outputs": [],
   "source": [
    "precision = np.empty(4)\n",
    "recall = np.empty(4)\n",
    "accuracy = np.empty(4)\n",
    "for i in range(4):\n",
    "    precision[i] = precision_score(y_train_ord.ravel(), depth_scores[i], average = 'macro')\n",
    "    recall[i] = recall_score(y_train_ord.ravel(),depth_scores[i], average = 'macro')\n",
    "    accuracy[i] = accuracy_score(y_train_ord.ravel(),depth_scores[i])"
   ]
  },
  {
   "cell_type": "code",
   "execution_count": 244,
   "metadata": {},
   "outputs": [
    {
     "data": {
      "image/png": "[encoded data removed]",
      "text/plain": [
       "<Figure size 720x720 with 1 Axes>"
      ]
     },
     "metadata": {},
     "output_type": "display_data"
    }
   ],
   "source": [
    "plt.figure(figsize=(10,10))\n",
    "plt.plot(nest,precision, label = 'average precision')\n",
    "plt.plot(nest,recall, label = 'average recall')\n",
    "plt.plot(nest,accuracy, label = 'accuracy')\n",
    "#plt.xlim(4,25)\n",
    "#plt.ylim(0.55,0.75)\n",
    "plt.legend(fontsize=16)\n",
    "plt.xlabel('n estimators', fontsize=16)\n",
    "plt.ylabel('score',fontsize=16)\n",
    "plt.show()"
   ]
  },
  {
   "cell_type": "code",
   "execution_count": 288,
   "metadata": {},
   "outputs": [],
   "source": [
    "rfc = RandomForestClassifier(n_estimators=100, max_depth=8)"
   ]
  },
  {
   "cell_type": "code",
   "execution_count": 289,
   "metadata": {},
   "outputs": [
    {
     "data": {
      "text/plain": [
       "RandomForestClassifier(bootstrap=True, ccp_alpha=0.0, class_weight=None,\n",
       "                       criterion='gini', max_depth=8, max_features='auto',\n",
       "                       max_leaf_nodes=None, max_samples=None,\n",
       "                       min_impurity_decrease=0.0, min_impurity_split=None,\n",
       "                       min_samples_leaf=1, min_samples_split=2,\n",
       "                       min_weight_fraction_leaf=0.0, n_estimators=100,\n",
       "                       n_jobs=None, oob_score=False, random_state=None,\n",
       "                       verbose=0, warm_start=False)"
      ]
     },
     "execution_count": 289,
     "metadata": {},
     "output_type": "execute_result"
    }
   ],
   "source": [
    "rfc.fit(X_train_scaled, y_train_ord.ravel())"
   ]
  },
  {
   "cell_type": "code",
   "execution_count": 290,
   "metadata": {},
   "outputs": [],
   "source": [
    "y_pred = rfc.predict(X_train_scaled)"
   ]
  },
  {
   "cell_type": "code",
   "execution_count": 291,
   "metadata": {},
   "outputs": [
    {
     "data": {
      "text/plain": [
       "0.6577598421144131"
      ]
     },
     "execution_count": 291,
     "metadata": {},
     "output_type": "execute_result"
    }
   ],
   "source": [
    "precision_score(y_train_ord.ravel(),y_pred, average='macro')"
   ]
  },
  {
   "cell_type": "code",
   "execution_count": null,
   "metadata": {},
   "outputs": [],
   "source": []
  }
 ],
 "metadata": {
  "kernelspec": {
   "display_name": "Python 3",
   "language": "python",
   "name": "python3"
  },
  "language_info": {
   "codemirror_mode": {
    "name": "ipython",
    "version": 3
   },
   "file_extension": ".py",
   "mimetype": "text/x-python",
   "name": "python",
   "nbconvert_exporter": "python",
   "pygments_lexer": "ipython3",
   "version": "3.7.3"
  }
 },
 "nbformat": 4,
 "nbformat_minor": 4
}
